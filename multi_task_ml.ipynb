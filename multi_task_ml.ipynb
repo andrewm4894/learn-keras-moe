{
  "cells": [
    {
      "cell_type": "code",
      "execution_count": 1,
      "metadata": {},
      "outputs": [
        {
          "name": "stdout",
          "output_type": "stream",
          "text": [
            "WARNING:tensorflow:From c:\\Users\\andre\\Documents\\repos\\learn-keras-moe\\venv\\lib\\site-packages\\keras\\src\\losses.py:2976: The name tf.losses.sparse_softmax_cross_entropy is deprecated. Please use tf.compat.v1.losses.sparse_softmax_cross_entropy instead.\n",
            "\n"
          ]
        }
      ],
      "source": [
        "import os\n",
        "\n",
        "os.environ[\"KERAS_BACKEND\"] = \"tensorflow\"\n",
        "# had to set this env var to avoid this issue:\n",
        "# https://stackoverflow.com/questions/75583410/module-save-error-typeerror-this-dict-descriptor-does-not-support-dict\n",
        "os.environ[\"WRAPT_DISABLE_EXTENSIONS\"] = \"true\"\n",
        "\n",
        "import tensorflow as tf\n",
        "import pandas as pd\n",
        "import keras\n",
        "import keras.layers as layers\n",
        "from keras.utils import FeatureSpace\n",
        "import numpy as np\n",
        "import matplotlib.pyplot as plt\n",
        "from sklearn.calibration import calibration_curve\n",
        "import pprint as pp\n",
        "from tensorflow import Tensor\n",
        "from keras.models import Model\n",
        "from pandas import DataFrame\n",
        "from typing import List, Dict, Tuple, Any\n",
        "\n",
        "\n",
        "def dataframe_to_dataset(dataframe: DataFrame, task_cols: List[str]) -> tf.data.Dataset:\n",
        "    dataframe = dataframe.copy()\n",
        "    labels = {col: dataframe.pop(col) for col in task_cols}\n",
        "    weights = {\n",
        "        f\"{col}_sample_weights\": dataframe.pop(f\"{col}_sample_weights\")\n",
        "        for col in task_cols\n",
        "    }\n",
        "\n",
        "    ds = tf.data.Dataset.from_tensor_slices(\n",
        "        tensors=(dict(dataframe), labels, weights), name=\"df_to_ds\"\n",
        "    )\n",
        "    ds = ds.shuffle(buffer_size=len(dataframe))\n",
        "\n",
        "    return ds\n",
        "\n",
        "\n",
        "def preprocess_dataset(\n",
        "    feature_space: FeatureSpace,\n",
        "    features: Dict[str, Tensor],\n",
        "    labels: Dict[str, Tensor],\n",
        "    weights: Dict[str, Tensor],\n",
        "    task_cols: List[str],\n",
        ") -> Tuple[Dict[str, Tensor], Dict[str, Tensor], Dict[str, Tensor]]:\n",
        "    adjusted_labels = {task_col: labels[task_col] for task_col in task_cols}\n",
        "    sample_weights = {\n",
        "        task_col: weights[f\"{task_col}_sample_weights\"] for task_col in task_cols\n",
        "    }\n",
        "\n",
        "    return feature_space(features), adjusted_labels, sample_weights\n",
        "\n",
        "\n",
        "def expert_network(\n",
        "    input_tensor: Tensor,\n",
        "    dense_units: List[int] = [32],\n",
        "    dropout_rate: float = 0.5,\n",
        "    activation: str = \"relu\",\n",
        "    expert_index: int = 0,  # Added an index for naming\n",
        ") -> Tensor:\n",
        "    x = input_tensor\n",
        "    for idx, units in enumerate(dense_units):\n",
        "        x = layers.Dense(\n",
        "            units, activation=activation, name=f\"expert_{expert_index}_dense_{idx}\"\n",
        "        )(x)\n",
        "        x = layers.Dropout(dropout_rate, name=f\"expert_{expert_index}_dropout_{idx}\")(x)\n",
        "\n",
        "    return x\n",
        "\n",
        "\n",
        "def gating_network(\n",
        "    input_tensor: Tensor,\n",
        "    num_experts: int,\n",
        "    task_name: str,\n",
        "    activation: str = \"softmax\",\n",
        ") -> Tensor:\n",
        "    return layers.Dense(num_experts, activation=activation, name=f\"gating_{task_name}\")(\n",
        "        input_tensor\n",
        "    )\n",
        "\n",
        "\n",
        "def combine_experts(\n",
        "    experts: List[Tensor], gating_weights: Tensor, task_name: str\n",
        ") -> Tensor:\n",
        "    weighted_experts = [\n",
        "        layers.Multiply(name=f\"weighted_expert_{task_name}_{i}\")(\n",
        "            [gating_weights[:, i : i + 1], expert]\n",
        "        )\n",
        "        for i, expert in enumerate(experts)\n",
        "    ]\n",
        "\n",
        "    return layers.Add(name=f\"combined_experts_{task_name}\")(weighted_experts)\n",
        "\n",
        "\n",
        "class ModelBuilder:\n",
        "    def __init__(\n",
        "        self,\n",
        "        feature_space: FeatureSpace,\n",
        "        num_experts: int = 2,\n",
        "        experts_dense_units: List[int] = [32],\n",
        "        experts_dropout_rate: float = 0.5,\n",
        "        experts_activation: str = \"relu\",\n",
        "        gating_activation: str = \"softmax\",\n",
        "        prediction_activation: str = \"sigmoid\",\n",
        "        task_cols: List[str] = [\"task_one\", \"task_two\"],\n",
        "    ):\n",
        "        self.feature_space = feature_space\n",
        "        self.num_experts = num_experts\n",
        "        self.experts_dense_units = experts_dense_units\n",
        "        self.experts_dropout_rate = experts_dropout_rate\n",
        "        self.experts_activation = experts_activation\n",
        "        self.gating_activation = gating_activation\n",
        "        self.prediction_activation = prediction_activation\n",
        "        self.task_cols = task_cols\n",
        "        self.input_features_encoded = feature_space.get_encoded_features()\n",
        "        self.input_features_dict = feature_space.get_inputs()\n",
        "        self.experts = [\n",
        "            expert_network(\n",
        "                self.input_features_encoded,\n",
        "                expert_index=i,\n",
        "                dense_units=self.experts_dense_units,\n",
        "                dropout_rate=self.experts_dropout_rate,\n",
        "                activation=self.experts_activation,\n",
        "            )\n",
        "            for i in range(self.num_experts)\n",
        "        ]\n",
        "\n",
        "    def build_models(self) -> Tuple[Model, Model]:\n",
        "        gating_models = []\n",
        "        prediction_models = []\n",
        "\n",
        "        for task_col in self.task_cols:\n",
        "            gating_task = gating_network(\n",
        "                self.input_features_encoded,\n",
        "                self.num_experts,\n",
        "                task_col,\n",
        "                self.gating_activation,\n",
        "            )\n",
        "            predictions_task = combine_experts(self.experts, gating_task, task_col)\n",
        "            predictions_task = layers.Dense(\n",
        "                1, activation=self.prediction_activation, name=task_col\n",
        "            )(predictions_task)\n",
        "\n",
        "            gating_models.append(gating_task)\n",
        "            prediction_models.append(predictions_task)\n",
        "\n",
        "        training_model = keras.Model(\n",
        "            inputs=self.input_features_encoded,\n",
        "            outputs=prediction_models,\n",
        "            name=\"training_model\",\n",
        "        )\n",
        "        inference_model = keras.Model(\n",
        "            inputs=self.input_features_dict,\n",
        "            outputs=prediction_models,\n",
        "            name=\"inference_model\",\n",
        "        )\n",
        "\n",
        "        return training_model, inference_model\n",
        "\n",
        "\n",
        "def brier_score(y_true: Tensor, y_pred: Tensor) -> Tensor:\n",
        "    return tf.reduce_mean(tf.math.square(y_true - y_pred), axis=-1)\n",
        "\n",
        "\n",
        "def mae(y_true: Tensor, y_pred: Tensor) -> Tensor:\n",
        "    return tf.reduce_mean(tf.abs(y_true - y_pred), axis=-1)"
      ]
    },
    {
      "cell_type": "markdown",
      "metadata": {},
      "source": [
        "# Params\n"
      ]
    },
    {
      "cell_type": "code",
      "execution_count": 2,
      "metadata": {},
      "outputs": [
        {
          "name": "stdout",
          "output_type": "stream",
          "text": [
            "WARNING:tensorflow:From c:\\Users\\andre\\Documents\\repos\\learn-keras-moe\\venv\\lib\\site-packages\\keras\\src\\backend.py:873: The name tf.get_default_graph is deprecated. Please use tf.compat.v1.get_default_graph instead.\n",
            "\n"
          ]
        }
      ],
      "source": [
        "# params\n",
        "task_cols = [\"task_one\", \"task_two\"]\n",
        "val_frac = 0.2\n",
        "random_seed = 1337\n",
        "ds_batch_size = 32\n",
        "features = {\n",
        "    # Categorical features encoded as integers\n",
        "    \"sex\": FeatureSpace.integer_categorical(num_oov_indices=0),\n",
        "    \"cp\": FeatureSpace.integer_categorical(num_oov_indices=0),\n",
        "    \"fbs\": FeatureSpace.integer_categorical(num_oov_indices=0),\n",
        "    \"restecg\": FeatureSpace.integer_categorical(num_oov_indices=0),\n",
        "    \"exang\": FeatureSpace.integer_categorical(num_oov_indices=0),\n",
        "    \"ca\": FeatureSpace.integer_categorical(num_oov_indices=0),\n",
        "    # Categorical feature encoded as string\n",
        "    \"thal\": FeatureSpace.string_categorical(num_oov_indices=0),\n",
        "    # Numerical features to discretize\n",
        "    \"age\": FeatureSpace.float_discretized(num_bins=30),\n",
        "    # Numerical features to normalize\n",
        "    \"trestbps\": FeatureSpace.float_normalized(),\n",
        "    \"chol\": FeatureSpace.float_normalized(),\n",
        "    \"thalach\": FeatureSpace.float_normalized(),\n",
        "    \"oldpeak\": FeatureSpace.float_normalized(),\n",
        "    \"slope\": FeatureSpace.float_normalized(),\n",
        "}\n",
        "crosses = [\n",
        "    FeatureSpace.cross(feature_names=(\"sex\", \"age\"), crossing_dim=64),\n",
        "    FeatureSpace.cross(\n",
        "        feature_names=(\"thal\", \"ca\"),\n",
        "        crossing_dim=16,\n",
        "    ),\n",
        "]\n",
        "feature_space_output_mode = \"concat\"\n",
        "model_num_experts = 2\n",
        "model_experts_dense_units = [64, 32]\n",
        "model_experts_dropout_rate = 0.5\n",
        "model_experts_activation = \"relu\"\n",
        "model_gating_activation = \"softmax\"\n",
        "model_prediction_activation = \"sigmoid\"\n",
        "model_optimizer = \"adam\"\n",
        "model_loss_functions = {\n",
        "    \"task_one\": \"binary_crossentropy\",\n",
        "    \"task_two\": \"binary_crossentropy\",\n",
        "}\n",
        "model_loss_weights = {\"task_one\": 0.05, \"task_two\": 0.95}\n",
        "model_metrics = {\n",
        "    \"task_one\": [\"accuracy\", brier_score, mae, keras.metrics.AUC()],\n",
        "    \"task_two\": [\"accuracy\", brier_score, mae, keras.metrics.AUC()],\n",
        "}\n",
        "model_weighted_metrics = {\n",
        "    \"task_one\": [\"accuracy\", brier_score],\n",
        "    \"task_two\": [\"accuracy\", brier_score],\n",
        "}\n",
        "fit_n_epochs = 40\n",
        "fit_verbose = 2"
      ]
    },
    {
      "cell_type": "markdown",
      "metadata": {
        "id": "ozAkttQPoFB4"
      },
      "source": [
        "# 1. Prepare Dataframes\n"
      ]
    },
    {
      "cell_type": "code",
      "execution_count": 3,
      "metadata": {
        "id": "nVYLblxNoHK9"
      },
      "outputs": [],
      "source": [
        "file_url = \"http://storage.googleapis.com/download.tensorflow.org/data/heart.csv\"\n",
        "dataframe = pd.read_csv(file_url)\n",
        "dataframe[\"task_two\"] = np.where(dataframe[\"slope\"] == 2, 1, 0)\n",
        "dataframe[\"task_two_sample_weights\"] = np.where(dataframe[\"exang\"] == 1, 1, 0)\n",
        "dataframe[\"task_one_sample_weights\"] = 1\n",
        "dataframe.rename(columns={\"target\": \"task_one\"}, inplace=True)"
      ]
    },
    {
      "cell_type": "markdown",
      "metadata": {
        "id": "l-TYLIIGg81F"
      },
      "source": [
        "- We would need to have sample weights & task labels encoded on train/val DF before loading\n"
      ]
    },
    {
      "cell_type": "code",
      "execution_count": 4,
      "metadata": {},
      "outputs": [
        {
          "name": "stdout",
          "output_type": "stream",
          "text": [
            "(303, 17)\n"
          ]
        }
      ],
      "source": [
        "print(dataframe.shape)"
      ]
    },
    {
      "cell_type": "code",
      "execution_count": 5,
      "metadata": {
        "colab": {
          "base_uri": "https://localhost:8080/",
          "height": 206
        },
        "id": "5DyjBYWmoJF9",
        "outputId": "d6e3757b-685b-487e-83ee-15d6182e5e8a"
      },
      "outputs": [
        {
          "data": {
            "text/html": [
              "<div>\n",
              "<style scoped>\n",
              "    .dataframe tbody tr th:only-of-type {\n",
              "        vertical-align: middle;\n",
              "    }\n",
              "\n",
              "    .dataframe tbody tr th {\n",
              "        vertical-align: top;\n",
              "    }\n",
              "\n",
              "    .dataframe thead th {\n",
              "        text-align: right;\n",
              "    }\n",
              "</style>\n",
              "<table border=\"1\" class=\"dataframe\">\n",
              "  <thead>\n",
              "    <tr style=\"text-align: right;\">\n",
              "      <th></th>\n",
              "      <th>age</th>\n",
              "      <th>sex</th>\n",
              "      <th>cp</th>\n",
              "      <th>trestbps</th>\n",
              "      <th>chol</th>\n",
              "      <th>fbs</th>\n",
              "      <th>restecg</th>\n",
              "      <th>thalach</th>\n",
              "      <th>exang</th>\n",
              "      <th>oldpeak</th>\n",
              "      <th>slope</th>\n",
              "      <th>ca</th>\n",
              "      <th>thal</th>\n",
              "      <th>task_one</th>\n",
              "      <th>task_two</th>\n",
              "      <th>task_two_sample_weights</th>\n",
              "      <th>task_one_sample_weights</th>\n",
              "    </tr>\n",
              "  </thead>\n",
              "  <tbody>\n",
              "    <tr>\n",
              "      <th>0</th>\n",
              "      <td>63</td>\n",
              "      <td>1</td>\n",
              "      <td>1</td>\n",
              "      <td>145</td>\n",
              "      <td>233</td>\n",
              "      <td>1</td>\n",
              "      <td>2</td>\n",
              "      <td>150</td>\n",
              "      <td>0</td>\n",
              "      <td>2.3</td>\n",
              "      <td>3</td>\n",
              "      <td>0</td>\n",
              "      <td>fixed</td>\n",
              "      <td>0</td>\n",
              "      <td>0</td>\n",
              "      <td>0</td>\n",
              "      <td>1</td>\n",
              "    </tr>\n",
              "    <tr>\n",
              "      <th>1</th>\n",
              "      <td>67</td>\n",
              "      <td>1</td>\n",
              "      <td>4</td>\n",
              "      <td>160</td>\n",
              "      <td>286</td>\n",
              "      <td>0</td>\n",
              "      <td>2</td>\n",
              "      <td>108</td>\n",
              "      <td>1</td>\n",
              "      <td>1.5</td>\n",
              "      <td>2</td>\n",
              "      <td>3</td>\n",
              "      <td>normal</td>\n",
              "      <td>1</td>\n",
              "      <td>1</td>\n",
              "      <td>1</td>\n",
              "      <td>1</td>\n",
              "    </tr>\n",
              "    <tr>\n",
              "      <th>2</th>\n",
              "      <td>67</td>\n",
              "      <td>1</td>\n",
              "      <td>4</td>\n",
              "      <td>120</td>\n",
              "      <td>229</td>\n",
              "      <td>0</td>\n",
              "      <td>2</td>\n",
              "      <td>129</td>\n",
              "      <td>1</td>\n",
              "      <td>2.6</td>\n",
              "      <td>2</td>\n",
              "      <td>2</td>\n",
              "      <td>reversible</td>\n",
              "      <td>0</td>\n",
              "      <td>1</td>\n",
              "      <td>1</td>\n",
              "      <td>1</td>\n",
              "    </tr>\n",
              "    <tr>\n",
              "      <th>3</th>\n",
              "      <td>37</td>\n",
              "      <td>1</td>\n",
              "      <td>3</td>\n",
              "      <td>130</td>\n",
              "      <td>250</td>\n",
              "      <td>0</td>\n",
              "      <td>0</td>\n",
              "      <td>187</td>\n",
              "      <td>0</td>\n",
              "      <td>3.5</td>\n",
              "      <td>3</td>\n",
              "      <td>0</td>\n",
              "      <td>normal</td>\n",
              "      <td>0</td>\n",
              "      <td>0</td>\n",
              "      <td>0</td>\n",
              "      <td>1</td>\n",
              "    </tr>\n",
              "    <tr>\n",
              "      <th>4</th>\n",
              "      <td>41</td>\n",
              "      <td>0</td>\n",
              "      <td>2</td>\n",
              "      <td>130</td>\n",
              "      <td>204</td>\n",
              "      <td>0</td>\n",
              "      <td>2</td>\n",
              "      <td>172</td>\n",
              "      <td>0</td>\n",
              "      <td>1.4</td>\n",
              "      <td>1</td>\n",
              "      <td>0</td>\n",
              "      <td>normal</td>\n",
              "      <td>0</td>\n",
              "      <td>0</td>\n",
              "      <td>0</td>\n",
              "      <td>1</td>\n",
              "    </tr>\n",
              "  </tbody>\n",
              "</table>\n",
              "</div>"
            ],
            "text/plain": [
              "   age  sex  cp  trestbps  chol  fbs  restecg  thalach  exang  oldpeak  slope  \\\n",
              "0   63    1   1       145   233    1        2      150      0      2.3      3   \n",
              "1   67    1   4       160   286    0        2      108      1      1.5      2   \n",
              "2   67    1   4       120   229    0        2      129      1      2.6      2   \n",
              "3   37    1   3       130   250    0        0      187      0      3.5      3   \n",
              "4   41    0   2       130   204    0        2      172      0      1.4      1   \n",
              "\n",
              "   ca        thal  task_one  task_two  task_two_sample_weights  \\\n",
              "0   0       fixed         0         0                        0   \n",
              "1   3      normal         1         1                        1   \n",
              "2   2  reversible         0         1                        1   \n",
              "3   0      normal         0         0                        0   \n",
              "4   0      normal         0         0                        0   \n",
              "\n",
              "   task_one_sample_weights  \n",
              "0                        1  \n",
              "1                        1  \n",
              "2                        1  \n",
              "3                        1  \n",
              "4                        1  "
            ]
          },
          "execution_count": 5,
          "metadata": {},
          "output_type": "execute_result"
        }
      ],
      "source": [
        "dataframe.head()"
      ]
    },
    {
      "cell_type": "code",
      "execution_count": 6,
      "metadata": {
        "colab": {
          "base_uri": "https://localhost:8080/"
        },
        "id": "9aPbyasxoKRM",
        "outputId": "c8d10306-70bd-40f4-9b3e-42bdefef1190"
      },
      "outputs": [
        {
          "name": "stdout",
          "output_type": "stream",
          "text": [
            "Using 242 samples for training and 61 for validation\n"
          ]
        }
      ],
      "source": [
        "val_dataframe = dataframe.sample(frac=val_frac, random_state=random_seed)\n",
        "train_dataframe = dataframe.drop(val_dataframe.index)\n",
        "\n",
        "print(\n",
        "    \"Using %d samples for training and %d for validation\"\n",
        "    % (len(train_dataframe), len(val_dataframe))\n",
        ")"
      ]
    },
    {
      "cell_type": "markdown",
      "metadata": {
        "id": "Pw-DlP9duFix"
      },
      "source": [
        "# 2. Convert to TF Dataset\n"
      ]
    },
    {
      "cell_type": "markdown",
      "metadata": {
        "id": "rAYOM0AKhO2s"
      },
      "source": [
        "In **Process step** we would have:\n",
        "\n",
        "- Maybe nothing\n",
        "\n",
        "In **train step** we would have:\n",
        "\n",
        "- DF to dataset\n",
        "- Configure & Adapt FeatureSpace\n",
        "- PreProcess Dataset\n",
        "- Build Network\n",
        "- Train Model -> Log to W&B\n",
        "- Return: **Serialized Python Runtime Model**\n"
      ]
    },
    {
      "cell_type": "code",
      "execution_count": 7,
      "metadata": {
        "id": "KIlxmecygVaa"
      },
      "outputs": [],
      "source": [
        "train_ds = dataframe_to_dataset(train_dataframe, task_cols)\n",
        "train_ds = train_ds.batch(ds_batch_size)\n",
        "\n",
        "val_ds = dataframe_to_dataset(val_dataframe, task_cols)\n",
        "val_ds = val_ds.batch(ds_batch_size)"
      ]
    },
    {
      "cell_type": "code",
      "execution_count": 8,
      "metadata": {},
      "outputs": [
        {
          "name": "stdout",
          "output_type": "stream",
          "text": [
            "({'age': TensorSpec(shape=(None,), dtype=tf.int64, name=None),\n",
            "  'ca': TensorSpec(shape=(None,), dtype=tf.int64, name=None),\n",
            "  'chol': TensorSpec(shape=(None,), dtype=tf.int64, name=None),\n",
            "  'cp': TensorSpec(shape=(None,), dtype=tf.int64, name=None),\n",
            "  'exang': TensorSpec(shape=(None,), dtype=tf.int64, name=None),\n",
            "  'fbs': TensorSpec(shape=(None,), dtype=tf.int64, name=None),\n",
            "  'oldpeak': TensorSpec(shape=(None,), dtype=tf.float64, name=None),\n",
            "  'restecg': TensorSpec(shape=(None,), dtype=tf.int64, name=None),\n",
            "  'sex': TensorSpec(shape=(None,), dtype=tf.int64, name=None),\n",
            "  'slope': TensorSpec(shape=(None,), dtype=tf.int64, name=None),\n",
            "  'thal': TensorSpec(shape=(None,), dtype=tf.string, name=None),\n",
            "  'thalach': TensorSpec(shape=(None,), dtype=tf.int64, name=None),\n",
            "  'trestbps': TensorSpec(shape=(None,), dtype=tf.int64, name=None)},\n",
            " {'task_one': TensorSpec(shape=(None,), dtype=tf.int64, name=None),\n",
            "  'task_two': TensorSpec(shape=(None,), dtype=tf.int32, name=None)},\n",
            " {'task_one_sample_weights': TensorSpec(shape=(None,), dtype=tf.int64, name=None),\n",
            "  'task_two_sample_weights': TensorSpec(shape=(None,), dtype=tf.int32, name=None)})\n"
          ]
        }
      ],
      "source": [
        "pp.pprint(train_ds.element_spec)"
      ]
    },
    {
      "cell_type": "code",
      "execution_count": 9,
      "metadata": {
        "colab": {
          "base_uri": "https://localhost:8080/"
        },
        "id": "wnLZUYtfoSdl",
        "outputId": "e7485ce6-4e92-455c-9dae-47f981d0f22a"
      },
      "outputs": [
        {
          "name": "stdout",
          "output_type": "stream",
          "text": [
            "Input:\n",
            " {'age': <tf.Tensor: shape=(32,), dtype=int64, numpy=\n",
            "array([52, 48, 58, 46, 54, 47, 58, 68, 42, 44, 65, 65, 35, 57, 42, 51, 57,\n",
            "       45, 62, 51, 50, 70, 57, 42, 51, 44, 51, 63, 54, 42, 56, 68],\n",
            "      dtype=int64)>, 'sex': <tf.Tensor: shape=(32,), dtype=int64, numpy=\n",
            "array([1, 1, 1, 0, 1, 1, 1, 1, 0, 1, 1, 1, 0, 0, 1, 1, 1, 0, 0, 0, 1, 1,\n",
            "       1, 1, 0, 1, 1, 1, 1, 1, 0, 0], dtype=int64)>, 'cp': <tf.Tensor: shape=(32,), dtype=int64, numpy=\n",
            "array([3, 4, 4, 3, 4, 3, 3, 0, 4, 4, 1, 4, 4, 4, 4, 4, 3, 4, 4, 3, 3, 4,\n",
            "       4, 2, 3, 2, 4, 1, 4, 3, 4, 3], dtype=int64)>, 'trestbps': <tf.Tensor: shape=(32,), dtype=int64, numpy=\n",
            "array([172, 124, 146, 142, 110, 108, 132, 144, 102, 110, 138, 120, 138,\n",
            "       120, 136, 140, 150, 138, 124, 140, 140, 130, 110, 120, 120, 130,\n",
            "       140, 145, 120, 130, 134, 120], dtype=int64)>, 'chol': <tf.Tensor: shape=(32,), dtype=int64, numpy=\n",
            "array([199, 274, 218, 177, 206, 243, 224, 193, 265, 197, 282, 177, 183,\n",
            "       354, 315, 261, 168, 236, 209, 308, 233, 322, 201, 295, 295, 219,\n",
            "       298, 233, 188, 180, 409, 211], dtype=int64)>, 'fbs': <tf.Tensor: shape=(32,), dtype=int64, numpy=\n",
            "array([1, 0, 0, 0, 0, 0, 0, 1, 0, 0, 1, 0, 0, 0, 0, 0, 0, 0, 0, 0, 0, 0,\n",
            "       0, 0, 0, 0, 0, 1, 0, 0, 0, 0], dtype=int64)>, 'restecg': <tf.Tensor: shape=(32,), dtype=int64, numpy=\n",
            "array([0, 2, 0, 2, 2, 0, 2, 1, 2, 2, 2, 0, 0, 0, 0, 2, 0, 2, 0, 2, 0, 2,\n",
            "       0, 0, 2, 2, 0, 2, 0, 0, 2, 2], dtype=int64)>, 'thalach': <tf.Tensor: shape=(32,), dtype=int64, numpy=\n",
            "array([162, 166, 105, 160, 108, 152, 173, 141, 122, 177, 174, 140, 182,\n",
            "       163, 125, 186, 174, 152, 163, 142, 163, 109, 126, 162, 157, 188,\n",
            "       122, 150, 113, 150, 150, 115], dtype=int64)>, 'exang': <tf.Tensor: shape=(32,), dtype=int64, numpy=\n",
            "array([0, 0, 0, 1, 1, 0, 0, 0, 0, 0, 0, 0, 0, 1, 1, 1, 0, 1, 0, 0, 0, 0,\n",
            "       1, 0, 0, 0, 1, 0, 0, 0, 1, 0], dtype=int64)>, 'oldpeak': <tf.Tensor: shape=(32,), dtype=float64, numpy=\n",
            "array([0.5, 0.5, 2. , 1.4, 0. , 0. , 3.2, 3.4, 0.6, 0. , 1.4, 0.4, 1.4,\n",
            "       0.6, 1.8, 0. , 1.6, 0.2, 0. , 1.5, 0.6, 2.4, 1.5, 0. , 0.6, 0. ,\n",
            "       4.2, 2.3, 1.4, 0. , 1.9, 1.5])>, 'slope': <tf.Tensor: shape=(32,), dtype=int64, numpy=\n",
            "array([1, 2, 2, 3, 2, 1, 1, 1, 2, 1, 2, 1, 1, 1, 2, 1, 1, 2, 1, 1, 2, 2,\n",
            "       2, 1, 1, 1, 2, 3, 2, 1, 2, 2], dtype=int64)>, 'ca': <tf.Tensor: shape=(32,), dtype=int64, numpy=\n",
            "array([0, 0, 1, 0, 1, 0, 2, 2, 0, 1, 1, 0, 0, 0, 0, 0, 0, 0, 0, 1, 1, 3,\n",
            "       0, 0, 0, 0, 3, 0, 1, 0, 2, 0], dtype=int64)>, 'thal': <tf.Tensor: shape=(32,), dtype=string, numpy=\n",
            "array([b'reversible', b'reversible', b'reversible', b'normal', b'normal',\n",
            "       b'normal', b'reversible', b'normal', b'normal', b'normal',\n",
            "       b'normal', b'reversible', b'normal', b'normal', b'fixed',\n",
            "       b'normal', b'normal', b'normal', b'normal', b'normal',\n",
            "       b'reversible', b'normal', b'fixed', b'normal', b'normal',\n",
            "       b'normal', b'reversible', b'fixed', b'reversible', b'normal',\n",
            "       b'reversible', b'normal'], dtype=object)>}\n",
            "Target:\n",
            " {'task_one': <tf.Tensor: shape=(32,), dtype=int64, numpy=\n",
            "array([0, 1, 0, 0, 1, 0, 1, 0, 0, 0, 0, 0, 0, 0, 1, 0, 0, 0, 0, 0, 0, 0,\n",
            "       0, 0, 0, 0, 1, 0, 1, 0, 1, 0], dtype=int64)>, 'task_two': <tf.Tensor: shape=(32,), dtype=int32, numpy=\n",
            "array([0, 1, 1, 0, 1, 0, 0, 0, 1, 0, 1, 0, 0, 0, 1, 0, 0, 1, 0, 0, 1, 1,\n",
            "       1, 0, 0, 0, 1, 0, 1, 0, 1, 1])>}\n",
            "Task Weights:\n",
            " {'task_one_sample_weights': <tf.Tensor: shape=(32,), dtype=int64, numpy=\n",
            "array([1, 1, 1, 1, 1, 1, 1, 1, 1, 1, 1, 1, 1, 1, 1, 1, 1, 1, 1, 1, 1, 1,\n",
            "       1, 1, 1, 1, 1, 1, 1, 1, 1, 1], dtype=int64)>, 'task_two_sample_weights': <tf.Tensor: shape=(32,), dtype=int32, numpy=\n",
            "array([0, 0, 0, 1, 1, 0, 0, 0, 0, 0, 0, 0, 0, 1, 1, 1, 0, 1, 0, 0, 0, 0,\n",
            "       1, 0, 0, 0, 1, 0, 0, 0, 1, 0])>}\n"
          ]
        }
      ],
      "source": [
        "for x, y, w in train_ds.take(1):\n",
        "    print(\"Input:\\n\", x)\n",
        "    print(\"Target:\\n\", y)\n",
        "    print(\"Task Weights:\\n\", w)"
      ]
    },
    {
      "cell_type": "markdown",
      "metadata": {
        "id": "uKPnTWuuocKp"
      },
      "source": [
        "# 3. Configure & Adapt FeatureSpace\n"
      ]
    },
    {
      "cell_type": "code",
      "execution_count": 10,
      "metadata": {
        "id": "O9N1A-BcoWjV"
      },
      "outputs": [],
      "source": [
        "feature_space = FeatureSpace(\n",
        "    features=features,\n",
        "    crosses=crosses,\n",
        "    output_mode=feature_space_output_mode,\n",
        ")"
      ]
    },
    {
      "cell_type": "code",
      "execution_count": 11,
      "metadata": {},
      "outputs": [],
      "source": [
        "# pp.pprint(feature_space.get_config())"
      ]
    },
    {
      "cell_type": "code",
      "execution_count": 12,
      "metadata": {
        "id": "lxBo6doCfASW"
      },
      "outputs": [
        {
          "name": "stdout",
          "output_type": "stream",
          "text": [
            "WARNING:tensorflow:From c:\\Users\\andre\\Documents\\repos\\learn-keras-moe\\venv\\lib\\site-packages\\keras\\src\\utils\\tf_utils.py:492: The name tf.ragged.RaggedTensorValue is deprecated. Please use tf.compat.v1.ragged.RaggedTensorValue instead.\n",
            "\n"
          ]
        }
      ],
      "source": [
        "train_ds_with_no_labels = train_ds.map(lambda x, y, z: x)\n",
        "feature_space.adapt(train_ds_with_no_labels)"
      ]
    },
    {
      "cell_type": "code",
      "execution_count": 13,
      "metadata": {},
      "outputs": [
        {
          "name": "stdout",
          "output_type": "stream",
          "text": [
            "{'age': TensorSpec(shape=(None,), dtype=tf.int64, name=None),\n",
            " 'ca': TensorSpec(shape=(None,), dtype=tf.int64, name=None),\n",
            " 'chol': TensorSpec(shape=(None,), dtype=tf.int64, name=None),\n",
            " 'cp': TensorSpec(shape=(None,), dtype=tf.int64, name=None),\n",
            " 'exang': TensorSpec(shape=(None,), dtype=tf.int64, name=None),\n",
            " 'fbs': TensorSpec(shape=(None,), dtype=tf.int64, name=None),\n",
            " 'oldpeak': TensorSpec(shape=(None,), dtype=tf.float64, name=None),\n",
            " 'restecg': TensorSpec(shape=(None,), dtype=tf.int64, name=None),\n",
            " 'sex': TensorSpec(shape=(None,), dtype=tf.int64, name=None),\n",
            " 'slope': TensorSpec(shape=(None,), dtype=tf.int64, name=None),\n",
            " 'thal': TensorSpec(shape=(None,), dtype=tf.string, name=None),\n",
            " 'thalach': TensorSpec(shape=(None,), dtype=tf.int64, name=None),\n",
            " 'trestbps': TensorSpec(shape=(None,), dtype=tf.int64, name=None)}\n"
          ]
        }
      ],
      "source": [
        "pp.pprint(train_ds_with_no_labels.element_spec)"
      ]
    },
    {
      "cell_type": "code",
      "execution_count": 14,
      "metadata": {},
      "outputs": [
        {
          "name": "stdout",
          "output_type": "stream",
          "text": [
            "Random feature: thalach\n",
            "{'class_name': 'Feature',\n",
            " 'config': {'dtype': 'float32',\n",
            "            'output_mode': 'float',\n",
            "            'preprocessor': {'build_config': {'input_shape': (None, 1)},\n",
            "                             'class_name': 'Normalization',\n",
            "                             'config': {'axis': (-1,),\n",
            "                                        'batch_input_shape': (None, None),\n",
            "                                        'dtype': 'float32',\n",
            "                                        'invert': False,\n",
            "                                        'mean': None,\n",
            "                                        'name': 'float_normalized_3_preprocessor',\n",
            "                                        'trainable': True,\n",
            "                                        'variance': None},\n",
            "                             'module': 'keras.layers',\n",
            "                             'registered_name': None}},\n",
            " 'module': 'keras.src.utils.feature_space',\n",
            " 'registered_name': 'Feature'}\n"
          ]
        }
      ],
      "source": [
        "# get feature_space info\n",
        "feature_space_info = feature_space.get_config()\n",
        "# select a random feature\n",
        "random_feature = np.random.choice(list(feature_space_info[\"features\"].keys()))\n",
        "print(\"Random feature:\", random_feature)\n",
        "pp.pprint(feature_space_info[\"features\"][random_feature])"
      ]
    },
    {
      "cell_type": "code",
      "execution_count": 15,
      "metadata": {
        "colab": {
          "base_uri": "https://localhost:8080/"
        },
        "id": "T2NTzST0o2gM",
        "outputId": "634356e6-0ac1-41c5-89a3-40913e9bc026"
      },
      "outputs": [
        {
          "name": "stdout",
          "output_type": "stream",
          "text": [
            "preprocessed_x:\n",
            " tf.Tensor(\n",
            "[[0. 0. 0. ... 0. 0. 0.]\n",
            " [0. 0. 0. ... 1. 0. 0.]\n",
            " [0. 0. 0. ... 0. 0. 0.]\n",
            " ...\n",
            " [0. 0. 0. ... 0. 0. 0.]\n",
            " [0. 0. 0. ... 0. 0. 0.]\n",
            " [0. 0. 0. ... 0. 0. 0.]], shape=(32, 138), dtype=float32)\n"
          ]
        }
      ],
      "source": [
        "for x, y, weights in train_ds.take(1):\n",
        "    preprocessed_x = feature_space(x)\n",
        "    print(\"preprocessed_x:\\n\", preprocessed_x)"
      ]
    },
    {
      "cell_type": "markdown",
      "metadata": {
        "id": "bHtSnBUmpdjv"
      },
      "source": [
        "# 4. Pre-process Data Before Feeding to the Model\n"
      ]
    },
    {
      "cell_type": "code",
      "execution_count": 16,
      "metadata": {
        "id": "7oDbRcjXkze8"
      },
      "outputs": [
        {
          "name": "stdout",
          "output_type": "stream",
          "text": [
            "(TensorSpec(shape=(None, 138), dtype=tf.float32, name=None),\n",
            " {'task_one': TensorSpec(shape=(None,), dtype=tf.int64, name=None),\n",
            "  'task_two': TensorSpec(shape=(None,), dtype=tf.int32, name=None)},\n",
            " {'task_one': TensorSpec(shape=(None,), dtype=tf.int64, name=None),\n",
            "  'task_two': TensorSpec(shape=(None,), dtype=tf.int32, name=None)})\n",
            "(TensorSpec(shape=(None, 138), dtype=tf.float32, name=None),\n",
            " {'task_one': TensorSpec(shape=(None,), dtype=tf.int64, name=None),\n",
            "  'task_two': TensorSpec(shape=(None,), dtype=tf.int32, name=None)},\n",
            " {'task_one': TensorSpec(shape=(None,), dtype=tf.int64, name=None),\n",
            "  'task_two': TensorSpec(shape=(None,), dtype=tf.int32, name=None)})\n"
          ]
        }
      ],
      "source": [
        "preprocessed_train_ds = train_ds.map(\n",
        "    lambda features, labels, weights: preprocess_dataset(\n",
        "        feature_space, features, labels, weights, task_cols\n",
        "    ),\n",
        "    num_parallel_calls=tf.data.AUTOTUNE,\n",
        ")\n",
        "preprocessed_train_ds = preprocessed_train_ds.prefetch(tf.data.AUTOTUNE)\n",
        "pp.pprint(preprocessed_train_ds.element_spec)\n",
        "\n",
        "preprocessed_val_ds = val_ds.map(\n",
        "    lambda features, labels, weights: preprocess_dataset(\n",
        "        feature_space, features, labels, weights, task_cols\n",
        "    ),\n",
        "    num_parallel_calls=tf.data.AUTOTUNE,\n",
        ")\n",
        "preprocessed_val_ds = preprocessed_val_ds.prefetch(tf.data.AUTOTUNE)\n",
        "pp.pprint(preprocessed_train_ds.element_spec)"
      ]
    },
    {
      "cell_type": "markdown",
      "metadata": {
        "id": "g5iwMcAJpp0h"
      },
      "source": [
        "# 5. Build the Model\n"
      ]
    },
    {
      "cell_type": "code",
      "execution_count": 17,
      "metadata": {
        "id": "zTWHcTT069bo"
      },
      "outputs": [
        {
          "name": "stdout",
          "output_type": "stream",
          "text": [
            "WARNING:tensorflow:From c:\\Users\\andre\\Documents\\repos\\learn-keras-moe\\venv\\lib\\site-packages\\keras\\src\\optimizers\\__init__.py:309: The name tf.train.Optimizer is deprecated. Please use tf.compat.v1.train.Optimizer instead.\n",
            "\n"
          ]
        }
      ],
      "source": [
        "# Build the model\n",
        "model_builder = ModelBuilder(\n",
        "    task_cols=task_cols,\n",
        "    feature_space=feature_space,\n",
        "    num_experts=model_num_experts,\n",
        "    experts_dense_units=model_experts_dense_units,\n",
        "    experts_dropout_rate=model_experts_dropout_rate,\n",
        "    experts_activation=model_experts_activation,\n",
        "    gating_activation=model_gating_activation,\n",
        "    prediction_activation=model_prediction_activation,\n",
        ")\n",
        "training_model, inference_model = model_builder.build_models()\n",
        "\n",
        "# Compile the training model\n",
        "training_model.compile(\n",
        "    optimizer=model_optimizer,\n",
        "    loss=model_loss_functions,\n",
        "    metrics=model_metrics,\n",
        "    weighted_metrics=model_weighted_metrics,\n",
        "    loss_weights=model_loss_weights,\n",
        ")"
      ]
    },
    {
      "cell_type": "code",
      "execution_count": 18,
      "metadata": {},
      "outputs": [
        {
          "name": "stdout",
          "output_type": "stream",
          "text": [
            "Model: \"training_model\"\n",
            "__________________________________________________________________________________________________\n",
            " Layer (type)                Output Shape                 Param #   Connected to                  \n",
            "==================================================================================================\n",
            " input_1 (InputLayer)        [(None, 138)]                0         []                            \n",
            "                                                                                                  \n",
            " expert_0_dense_0 (Dense)    (None, 64)                   8896      ['input_1[0][0]']             \n",
            "                                                                                                  \n",
            " expert_1_dense_0 (Dense)    (None, 64)                   8896      ['input_1[0][0]']             \n",
            "                                                                                                  \n",
            " expert_0_dropout_0 (Dropou  (None, 64)                   0         ['expert_0_dense_0[1][0]']    \n",
            " t)                                                                                               \n",
            "                                                                                                  \n",
            " expert_1_dropout_0 (Dropou  (None, 64)                   0         ['expert_1_dense_0[1][0]']    \n",
            " t)                                                                                               \n",
            "                                                                                                  \n",
            " gating_task_one (Dense)     (None, 2)                    278       ['input_1[0][0]']             \n",
            "                                                                                                  \n",
            " expert_0_dense_1 (Dense)    (None, 32)                   2080      ['expert_0_dropout_0[1][0]']  \n",
            "                                                                                                  \n",
            " expert_1_dense_1 (Dense)    (None, 32)                   2080      ['expert_1_dropout_0[1][0]']  \n",
            "                                                                                                  \n",
            " gating_task_two (Dense)     (None, 2)                    278       ['input_1[0][0]']             \n",
            "                                                                                                  \n",
            " tf.__operators__.getitem (  (None, 1)                    0         ['gating_task_one[1][0]']     \n",
            " SlicingOpLambda)                                                                                 \n",
            "                                                                                                  \n",
            " expert_0_dropout_1 (Dropou  (None, 32)                   0         ['expert_0_dense_1[1][0]']    \n",
            " t)                                                                                               \n",
            "                                                                                                  \n",
            " tf.__operators__.getitem_1  (None, 1)                    0         ['gating_task_one[1][0]']     \n",
            "  (SlicingOpLambda)                                                                               \n",
            "                                                                                                  \n",
            " expert_1_dropout_1 (Dropou  (None, 32)                   0         ['expert_1_dense_1[1][0]']    \n",
            " t)                                                                                               \n",
            "                                                                                                  \n",
            " tf.__operators__.getitem_2  (None, 1)                    0         ['gating_task_two[1][0]']     \n",
            "  (SlicingOpLambda)                                                                               \n",
            "                                                                                                  \n",
            " tf.__operators__.getitem_3  (None, 1)                    0         ['gating_task_two[1][0]']     \n",
            "  (SlicingOpLambda)                                                                               \n",
            "                                                                                                  \n",
            " weighted_expert_task_one_0  (None, 32)                   0         ['tf.__operators__.getitem[1][\n",
            "  (Multiply)                                                        0]',                          \n",
            "                                                                     'expert_0_dropout_1[1][0]']  \n",
            "                                                                                                  \n",
            " weighted_expert_task_one_1  (None, 32)                   0         ['tf.__operators__.getitem_1[1\n",
            "  (Multiply)                                                        ][0]',                        \n",
            "                                                                     'expert_1_dropout_1[1][0]']  \n",
            "                                                                                                  \n",
            " weighted_expert_task_two_0  (None, 32)                   0         ['tf.__operators__.getitem_2[1\n",
            "  (Multiply)                                                        ][0]',                        \n",
            "                                                                     'expert_0_dropout_1[1][0]']  \n",
            "                                                                                                  \n",
            " weighted_expert_task_two_1  (None, 32)                   0         ['tf.__operators__.getitem_3[1\n",
            "  (Multiply)                                                        ][0]',                        \n",
            "                                                                     'expert_1_dropout_1[1][0]']  \n",
            "                                                                                                  \n",
            " combined_experts_task_one   (None, 32)                   0         ['weighted_expert_task_one_0[1\n",
            " (Add)                                                              ][0]',                        \n",
            "                                                                     'weighted_expert_task_one_1[1\n",
            "                                                                    ][0]']                        \n",
            "                                                                                                  \n",
            " combined_experts_task_two   (None, 32)                   0         ['weighted_expert_task_two_0[1\n",
            " (Add)                                                              ][0]',                        \n",
            "                                                                     'weighted_expert_task_two_1[1\n",
            "                                                                    ][0]']                        \n",
            "                                                                                                  \n",
            " task_one (Dense)            (None, 1)                    33        ['combined_experts_task_one[1]\n",
            "                                                                    [0]']                         \n",
            "                                                                                                  \n",
            " task_two (Dense)            (None, 1)                    33        ['combined_experts_task_two[1]\n",
            "                                                                    [0]']                         \n",
            "                                                                                                  \n",
            "==================================================================================================\n",
            "Total params: 22574 (88.18 KB)\n",
            "Trainable params: 22574 (88.18 KB)\n",
            "Non-trainable params: 0 (0.00 Byte)\n",
            "__________________________________________________________________________________________________\n"
          ]
        }
      ],
      "source": [
        "# print training model summary\n",
        "training_model.summary()"
      ]
    },
    {
      "cell_type": "code",
      "execution_count": 19,
      "metadata": {},
      "outputs": [
        {
          "name": "stdout",
          "output_type": "stream",
          "text": [
            "You must install pydot (`pip install pydot`) and install graphviz (see instructions at https://graphviz.gitlab.io/download/) for plot_model to work.\n"
          ]
        }
      ],
      "source": [
        "# print model diagram\n",
        "keras.utils.plot_model(\n",
        "    training_model,\n",
        "    show_shapes=True,\n",
        "    show_layer_names=True,\n",
        "    show_trainable=True,\n",
        "    rankdir=\"TB\",\n",
        ")"
      ]
    },
    {
      "cell_type": "code",
      "execution_count": 20,
      "metadata": {
        "colab": {
          "base_uri": "https://localhost:8080/"
        },
        "id": "kLyRkOX26_ny",
        "outputId": "a4d7a1be-e07c-4771-e890-69314ceb0c47"
      },
      "outputs": [
        {
          "name": "stdout",
          "output_type": "stream",
          "text": [
            "Epoch 1/40\n",
            "WARNING:tensorflow:From c:\\Users\\andre\\Documents\\repos\\learn-keras-moe\\venv\\lib\\site-packages\\keras\\src\\engine\\base_layer_utils.py:384: The name tf.executing_eagerly_outside_functions is deprecated. Please use tf.compat.v1.executing_eagerly_outside_functions instead.\n",
            "\n",
            "8/8 - 7s - loss: 0.2493 - task_one_loss: 0.7329 - task_two_loss: 0.2239 - task_one_accuracy: 0.4752 - task_one_brier_score: 0.2684 - task_one_mae: 0.5041 - task_one_auc: 0.3815 - task_one_weighted_accuracy: 0.4752 - task_one_weighted_brier_score: 0.2684 - task_two_accuracy: 0.4793 - task_two_brier_score: 0.2573 - task_two_mae: 0.4970 - task_two_auc_1: 0.5183 - task_two_weighted_accuracy: 0.5128 - task_two_weighted_brier_score: 0.2503 - val_loss: 0.2509 - val_task_one_loss: 0.6660 - val_task_two_loss: 0.2291 - val_task_one_accuracy: 0.6885 - val_task_one_brier_score: 0.2364 - val_task_one_mae: 0.4812 - val_task_one_auc: 0.2599 - val_task_one_weighted_accuracy: 0.6885 - val_task_one_weighted_brier_score: 0.2364 - val_task_two_accuracy: 0.7049 - val_task_two_brier_score: 0.2335 - val_task_two_mae: 0.4797 - val_task_two_auc_1: 0.7403 - val_task_two_weighted_accuracy: 0.7143 - val_task_two_weighted_brier_score: 0.2361 - 7s/epoch - 858ms/step\n",
            "Epoch 2/40\n",
            "8/8 - 1s - loss: 0.2329 - task_one_loss: 0.6954 - task_two_loss: 0.2086 - task_one_accuracy: 0.5620 - task_one_brier_score: 0.2507 - task_one_mae: 0.4873 - task_one_auc: 0.4298 - task_one_weighted_accuracy: 0.5620 - task_one_weighted_brier_score: 0.2507 - task_two_accuracy: 0.5207 - task_two_brier_score: 0.2521 - task_two_mae: 0.4887 - task_two_auc_1: 0.5932 - task_two_weighted_accuracy: 0.7051 - task_two_weighted_brier_score: 0.2237 - val_loss: 0.2456 - val_task_one_loss: 0.6332 - val_task_two_loss: 0.2252 - val_task_one_accuracy: 0.7541 - val_task_one_brier_score: 0.2201 - val_task_one_mae: 0.4608 - val_task_one_auc: 0.2979 - val_task_one_weighted_accuracy: 0.7541 - val_task_one_weighted_brier_score: 0.2201 - val_task_two_accuracy: 0.6066 - val_task_two_brier_score: 0.2315 - val_task_two_mae: 0.4736 - val_task_two_auc_1: 0.7812 - val_task_two_weighted_accuracy: 0.7143 - val_task_two_weighted_brier_score: 0.2301 - 608ms/epoch - 76ms/step\n",
            "Epoch 3/40\n",
            "8/8 - 1s - loss: 0.2280 - task_one_loss: 0.6783 - task_two_loss: 0.2043 - task_one_accuracy: 0.6074 - task_one_brier_score: 0.2418 - task_one_mae: 0.4737 - task_one_auc: 0.4488 - task_one_weighted_accuracy: 0.6074 - task_one_weighted_brier_score: 0.2418 - task_two_accuracy: 0.5496 - task_two_brier_score: 0.2518 - task_two_mae: 0.4868 - task_two_auc_1: 0.6022 - task_two_weighted_accuracy: 0.7051 - task_two_weighted_brier_score: 0.2211 - val_loss: 0.2431 - val_task_one_loss: 0.6124 - val_task_two_loss: 0.2236 - val_task_one_accuracy: 0.7705 - val_task_one_brier_score: 0.2100 - val_task_one_mae: 0.4468 - val_task_one_auc: 0.3647 - val_task_one_weighted_accuracy: 0.7705 - val_task_one_weighted_brier_score: 0.2100 - val_task_two_accuracy: 0.5902 - val_task_two_brier_score: 0.2299 - val_task_two_mae: 0.4689 - val_task_two_auc_1: 0.8017 - val_task_two_weighted_accuracy: 0.6667 - val_task_two_weighted_brier_score: 0.2275 - 797ms/epoch - 100ms/step\n",
            "Epoch 4/40\n",
            "8/8 - 1s - loss: 0.2094 - task_one_loss: 0.6465 - task_two_loss: 0.1864 - task_one_accuracy: 0.6488 - task_one_brier_score: 0.2264 - task_one_mae: 0.4524 - task_one_auc: 0.4979 - task_one_weighted_accuracy: 0.6488 - task_one_weighted_brier_score: 0.2264 - task_two_accuracy: 0.5826 - task_two_brier_score: 0.2444 - task_two_mae: 0.4720 - task_two_auc_1: 0.6924 - task_two_weighted_accuracy: 0.7308 - task_two_weighted_brier_score: 0.1964 - val_loss: 0.2406 - val_task_one_loss: 0.5933 - val_task_two_loss: 0.2220 - val_task_one_accuracy: 0.7705 - val_task_one_brier_score: 0.2010 - val_task_one_mae: 0.4331 - val_task_one_auc: 0.4453 - val_task_one_weighted_accuracy: 0.7705 - val_task_one_weighted_brier_score: 0.2010 - val_task_two_accuracy: 0.5902 - val_task_two_brier_score: 0.2285 - val_task_two_mae: 0.4642 - val_task_two_auc_1: 0.8173 - val_task_two_weighted_accuracy: 0.6667 - val_task_two_weighted_brier_score: 0.2247 - 728ms/epoch - 91ms/step\n",
            "Epoch 5/40\n",
            "8/8 - 1s - loss: 0.2149 - task_one_loss: 0.6188 - task_two_loss: 0.1936 - task_one_accuracy: 0.6983 - task_one_brier_score: 0.2135 - task_one_mae: 0.4343 - task_one_auc: 0.5503 - task_one_weighted_accuracy: 0.6983 - task_one_weighted_brier_score: 0.2135 - task_two_accuracy: 0.5826 - task_two_brier_score: 0.2440 - task_two_mae: 0.4722 - task_two_auc_1: 0.6909 - task_two_weighted_accuracy: 0.7051 - task_two_weighted_brier_score: 0.2059 - val_loss: 0.2388 - val_task_one_loss: 0.5767 - val_task_two_loss: 0.2210 - val_task_one_accuracy: 0.7705 - val_task_one_brier_score: 0.1932 - val_task_one_mae: 0.4207 - val_task_one_auc: 0.5220 - val_task_one_weighted_accuracy: 0.7705 - val_task_one_weighted_brier_score: 0.1932 - val_task_two_accuracy: 0.6230 - val_task_two_brier_score: 0.2265 - val_task_two_mae: 0.4598 - val_task_two_auc_1: 0.8217 - val_task_two_weighted_accuracy: 0.7143 - val_task_two_weighted_brier_score: 0.2229 - 767ms/epoch - 96ms/step\n",
            "Epoch 6/40\n",
            "8/8 - 1s - loss: 0.2144 - task_one_loss: 0.6127 - task_two_loss: 0.1934 - task_one_accuracy: 0.6942 - task_one_brier_score: 0.2108 - task_one_mae: 0.4297 - task_one_auc: 0.5570 - task_one_weighted_accuracy: 0.6942 - task_one_weighted_brier_score: 0.2108 - task_two_accuracy: 0.5992 - task_two_brier_score: 0.2448 - task_two_mae: 0.4723 - task_two_auc_1: 0.6912 - task_two_weighted_accuracy: 0.7436 - task_two_weighted_brier_score: 0.2044 - val_loss: 0.2373 - val_task_one_loss: 0.5612 - val_task_two_loss: 0.2202 - val_task_one_accuracy: 0.7705 - val_task_one_brier_score: 0.1862 - val_task_one_mae: 0.4078 - val_task_one_auc: 0.5714 - val_task_one_weighted_accuracy: 0.7705 - val_task_one_weighted_brier_score: 0.1862 - val_task_two_accuracy: 0.6230 - val_task_two_brier_score: 0.2252 - val_task_two_mae: 0.4552 - val_task_two_auc_1: 0.8314 - val_task_two_weighted_accuracy: 0.7143 - val_task_two_weighted_brier_score: 0.2211 - 650ms/epoch - 81ms/step\n",
            "Epoch 7/40\n",
            "8/8 - 1s - loss: 0.2093 - task_one_loss: 0.6094 - task_two_loss: 0.1883 - task_one_accuracy: 0.6860 - task_one_brier_score: 0.2093 - task_one_mae: 0.4242 - task_one_auc: 0.5756 - task_one_weighted_accuracy: 0.6860 - task_one_weighted_brier_score: 0.2093 - task_two_accuracy: 0.6157 - task_two_brier_score: 0.2376 - task_two_mae: 0.4583 - task_two_auc_1: 0.7278 - task_two_weighted_accuracy: 0.6795 - task_two_weighted_brier_score: 0.1992 - val_loss: 0.2365 - val_task_one_loss: 0.5498 - val_task_two_loss: 0.2200 - val_task_one_accuracy: 0.7705 - val_task_one_brier_score: 0.1813 - val_task_one_mae: 0.3983 - val_task_one_auc: 0.6087 - val_task_one_weighted_accuracy: 0.7705 - val_task_one_weighted_brier_score: 0.1813 - val_task_two_accuracy: 0.6066 - val_task_two_brier_score: 0.2229 - val_task_two_mae: 0.4506 - val_task_two_auc_1: 0.8335 - val_task_two_weighted_accuracy: 0.7143 - val_task_two_weighted_brier_score: 0.2201 - 527ms/epoch - 66ms/step\n",
            "Epoch 8/40\n",
            "8/8 - 1s - loss: 0.2123 - task_one_loss: 0.6105 - task_two_loss: 0.1914 - task_one_accuracy: 0.6901 - task_one_brier_score: 0.2103 - task_one_mae: 0.4184 - task_one_auc: 0.5399 - task_one_weighted_accuracy: 0.6901 - task_one_weighted_brier_score: 0.2103 - task_two_accuracy: 0.5744 - task_two_brier_score: 0.2464 - task_two_mae: 0.4671 - task_two_auc_1: 0.7218 - task_two_weighted_accuracy: 0.7564 - task_two_weighted_brier_score: 0.2001 - val_loss: 0.2350 - val_task_one_loss: 0.5405 - val_task_two_loss: 0.2189 - val_task_one_accuracy: 0.7705 - val_task_one_brier_score: 0.1774 - val_task_one_mae: 0.3909 - val_task_one_auc: 0.6535 - val_task_one_weighted_accuracy: 0.7705 - val_task_one_weighted_brier_score: 0.1774 - val_task_two_accuracy: 0.6393 - val_task_two_brier_score: 0.2192 - val_task_two_mae: 0.4456 - val_task_two_auc_1: 0.8330 - val_task_two_weighted_accuracy: 0.7143 - val_task_two_weighted_brier_score: 0.2184 - 588ms/epoch - 74ms/step\n",
            "Epoch 9/40\n",
            "8/8 - 1s - loss: 0.1995 - task_one_loss: 0.5790 - task_two_loss: 0.1795 - task_one_accuracy: 0.7231 - task_one_brier_score: 0.1958 - task_one_mae: 0.3997 - task_one_auc: 0.6317 - task_one_weighted_accuracy: 0.7231 - task_one_weighted_brier_score: 0.1958 - task_two_accuracy: 0.5992 - task_two_brier_score: 0.2330 - task_two_mae: 0.4497 - task_two_auc_1: 0.7615 - task_two_weighted_accuracy: 0.7051 - task_two_weighted_brier_score: 0.1873 - val_loss: 0.2342 - val_task_one_loss: 0.5303 - val_task_two_loss: 0.2186 - val_task_one_accuracy: 0.7705 - val_task_one_brier_score: 0.1732 - val_task_one_mae: 0.3826 - val_task_one_auc: 0.6831 - val_task_one_weighted_accuracy: 0.7705 - val_task_one_weighted_brier_score: 0.1732 - val_task_two_accuracy: 0.6885 - val_task_two_brier_score: 0.2166 - val_task_two_mae: 0.4402 - val_task_two_auc_1: 0.8394 - val_task_two_weighted_accuracy: 0.7143 - val_task_two_weighted_brier_score: 0.2171 - 584ms/epoch - 73ms/step\n",
            "Epoch 10/40\n",
            "8/8 - 0s - loss: 0.1883 - task_one_loss: 0.5812 - task_two_loss: 0.1677 - task_one_accuracy: 0.7107 - task_one_brier_score: 0.1973 - task_one_mae: 0.4026 - task_one_auc: 0.6349 - task_one_weighted_accuracy: 0.7107 - task_one_weighted_brier_score: 0.1973 - task_two_accuracy: 0.6322 - task_two_brier_score: 0.2260 - task_two_mae: 0.4453 - task_two_auc_1: 0.7612 - task_two_weighted_accuracy: 0.7436 - task_two_weighted_brier_score: 0.1715 - val_loss: 0.2324 - val_task_one_loss: 0.5198 - val_task_two_loss: 0.2173 - val_task_one_accuracy: 0.7705 - val_task_one_brier_score: 0.1690 - val_task_one_mae: 0.3734 - val_task_one_auc: 0.7135 - val_task_one_weighted_accuracy: 0.7705 - val_task_one_weighted_brier_score: 0.1690 - val_task_two_accuracy: 0.7213 - val_task_two_brier_score: 0.2098 - val_task_two_mae: 0.4317 - val_task_two_auc_1: 0.8405 - val_task_two_weighted_accuracy: 0.7143 - val_task_two_weighted_brier_score: 0.2145 - 473ms/epoch - 59ms/step\n",
            "Epoch 11/40\n",
            "8/8 - 1s - loss: 0.1948 - task_one_loss: 0.5678 - task_two_loss: 0.1752 - task_one_accuracy: 0.7149 - task_one_brier_score: 0.1934 - task_one_mae: 0.3904 - task_one_auc: 0.6437 - task_one_weighted_accuracy: 0.7149 - task_one_weighted_brier_score: 0.1934 - task_two_accuracy: 0.6322 - task_two_brier_score: 0.2291 - task_two_mae: 0.4472 - task_two_auc_1: 0.7707 - task_two_weighted_accuracy: 0.7949 - task_two_weighted_brier_score: 0.1762 - val_loss: 0.2316 - val_task_one_loss: 0.5108 - val_task_two_loss: 0.2169 - val_task_one_accuracy: 0.7705 - val_task_one_brier_score: 0.1657 - val_task_one_mae: 0.3654 - val_task_one_auc: 0.7447 - val_task_one_weighted_accuracy: 0.7705 - val_task_one_weighted_brier_score: 0.1657 - val_task_two_accuracy: 0.7213 - val_task_two_brier_score: 0.2063 - val_task_two_mae: 0.4235 - val_task_two_auc_1: 0.8459 - val_task_two_weighted_accuracy: 0.7143 - val_task_two_weighted_brier_score: 0.2125 - 621ms/epoch - 78ms/step\n",
            "Epoch 12/40\n",
            "8/8 - 1s - loss: 0.1771 - task_one_loss: 0.5757 - task_two_loss: 0.1561 - task_one_accuracy: 0.7149 - task_one_brier_score: 0.1938 - task_one_mae: 0.3892 - task_one_auc: 0.6529 - task_one_weighted_accuracy: 0.7149 - task_one_weighted_brier_score: 0.1938 - task_two_accuracy: 0.6694 - task_two_brier_score: 0.2189 - task_two_mae: 0.4308 - task_two_auc_1: 0.7955 - task_two_weighted_accuracy: 0.8333 - task_two_weighted_brier_score: 0.1529 - val_loss: 0.2305 - val_task_one_loss: 0.5037 - val_task_two_loss: 0.2161 - val_task_one_accuracy: 0.7705 - val_task_one_brier_score: 0.1630 - val_task_one_mae: 0.3600 - val_task_one_auc: 0.7576 - val_task_one_weighted_accuracy: 0.7705 - val_task_one_weighted_brier_score: 0.1630 - val_task_two_accuracy: 0.7377 - val_task_two_brier_score: 0.2012 - val_task_two_mae: 0.4177 - val_task_two_auc_1: 0.8475 - val_task_two_weighted_accuracy: 0.7143 - val_task_two_weighted_brier_score: 0.2113 - 558ms/epoch - 70ms/step\n",
            "Epoch 13/40\n",
            "8/8 - 1s - loss: 0.1643 - task_one_loss: 0.5465 - task_two_loss: 0.1442 - task_one_accuracy: 0.7107 - task_one_brier_score: 0.1849 - task_one_mae: 0.3747 - task_one_auc: 0.6973 - task_one_weighted_accuracy: 0.7107 - task_one_weighted_brier_score: 0.1849 - task_two_accuracy: 0.6736 - task_two_brier_score: 0.2047 - task_two_mae: 0.4159 - task_two_auc_1: 0.8233 - task_two_weighted_accuracy: 0.8205 - task_two_weighted_brier_score: 0.1392 - val_loss: 0.2298 - val_task_one_loss: 0.4970 - val_task_two_loss: 0.2157 - val_task_one_accuracy: 0.7705 - val_task_one_brier_score: 0.1606 - val_task_one_mae: 0.3553 - val_task_one_auc: 0.7728 - val_task_one_weighted_accuracy: 0.7705 - val_task_one_weighted_brier_score: 0.1606 - val_task_two_accuracy: 0.7705 - val_task_two_brier_score: 0.1948 - val_task_two_mae: 0.4082 - val_task_two_auc_1: 0.8529 - val_task_two_weighted_accuracy: 0.7619 - val_task_two_weighted_brier_score: 0.2094 - 810ms/epoch - 101ms/step\n",
            "Epoch 14/40\n",
            "8/8 - 1s - loss: 0.1775 - task_one_loss: 0.5660 - task_two_loss: 0.1571 - task_one_accuracy: 0.7066 - task_one_brier_score: 0.1941 - task_one_mae: 0.3856 - task_one_auc: 0.6404 - task_one_weighted_accuracy: 0.7066 - task_one_weighted_brier_score: 0.1941 - task_two_accuracy: 0.6942 - task_two_brier_score: 0.2104 - task_two_mae: 0.4151 - task_two_auc_1: 0.8007 - task_two_weighted_accuracy: 0.8205 - task_two_weighted_brier_score: 0.1539 - val_loss: 0.2288 - val_task_one_loss: 0.4891 - val_task_two_loss: 0.2151 - val_task_one_accuracy: 0.7705 - val_task_one_brier_score: 0.1577 - val_task_one_mae: 0.3495 - val_task_one_auc: 0.7789 - val_task_one_weighted_accuracy: 0.7705 - val_task_one_weighted_brier_score: 0.1577 - val_task_two_accuracy: 0.7705 - val_task_two_brier_score: 0.1890 - val_task_two_mae: 0.3990 - val_task_two_auc_1: 0.8572 - val_task_two_weighted_accuracy: 0.7619 - val_task_two_weighted_brier_score: 0.2074 - 719ms/epoch - 90ms/step\n",
            "Epoch 15/40\n",
            "8/8 - 1s - loss: 0.1719 - task_one_loss: 0.5176 - task_two_loss: 0.1537 - task_one_accuracy: 0.7066 - task_one_brier_score: 0.1733 - task_one_mae: 0.3581 - task_one_auc: 0.7683 - task_one_weighted_accuracy: 0.7066 - task_one_weighted_brier_score: 0.1733 - task_two_accuracy: 0.6983 - task_two_brier_score: 0.1998 - task_two_mae: 0.4033 - task_two_auc_1: 0.8266 - task_two_weighted_accuracy: 0.8077 - task_two_weighted_brier_score: 0.1531 - val_loss: 0.2277 - val_task_one_loss: 0.4791 - val_task_two_loss: 0.2145 - val_task_one_accuracy: 0.7705 - val_task_one_brier_score: 0.1544 - val_task_one_mae: 0.3405 - val_task_one_auc: 0.7971 - val_task_one_weighted_accuracy: 0.7705 - val_task_one_weighted_brier_score: 0.1544 - val_task_two_accuracy: 0.7541 - val_task_two_brier_score: 0.1829 - val_task_two_mae: 0.3891 - val_task_two_auc_1: 0.8583 - val_task_two_weighted_accuracy: 0.7619 - val_task_two_weighted_brier_score: 0.2053 - 755ms/epoch - 94ms/step\n",
            "Epoch 16/40\n",
            "8/8 - 1s - loss: 0.1626 - task_one_loss: 0.5447 - task_two_loss: 0.1425 - task_one_accuracy: 0.7231 - task_one_brier_score: 0.1846 - task_one_mae: 0.3706 - task_one_auc: 0.7040 - task_one_weighted_accuracy: 0.7231 - task_one_weighted_brier_score: 0.1846 - task_two_accuracy: 0.7190 - task_two_brier_score: 0.1940 - task_two_mae: 0.3955 - task_two_auc_1: 0.8428 - task_two_weighted_accuracy: 0.8718 - task_two_weighted_brier_score: 0.1304 - val_loss: 0.2263 - val_task_one_loss: 0.4681 - val_task_two_loss: 0.2136 - val_task_one_accuracy: 0.7705 - val_task_one_brier_score: 0.1508 - val_task_one_mae: 0.3312 - val_task_one_auc: 0.8062 - val_task_one_weighted_accuracy: 0.7705 - val_task_one_weighted_brier_score: 0.1508 - val_task_two_accuracy: 0.7705 - val_task_two_brier_score: 0.1765 - val_task_two_mae: 0.3788 - val_task_two_auc_1: 0.8594 - val_task_two_weighted_accuracy: 0.7619 - val_task_two_weighted_brier_score: 0.2029 - 846ms/epoch - 106ms/step\n",
            "Epoch 17/40\n",
            "8/8 - 1s - loss: 0.1757 - task_one_loss: 0.5282 - task_two_loss: 0.1571 - task_one_accuracy: 0.7273 - task_one_brier_score: 0.1783 - task_one_mae: 0.3549 - task_one_auc: 0.7305 - task_one_weighted_accuracy: 0.7273 - task_one_weighted_brier_score: 0.1783 - task_two_accuracy: 0.7479 - task_two_brier_score: 0.1907 - task_two_mae: 0.3851 - task_two_auc_1: 0.8307 - task_two_weighted_accuracy: 0.8333 - task_two_weighted_brier_score: 0.1558 - val_loss: 0.2244 - val_task_one_loss: 0.4567 - val_task_two_loss: 0.2122 - val_task_one_accuracy: 0.7705 - val_task_one_brier_score: 0.1469 - val_task_one_mae: 0.3222 - val_task_one_auc: 0.8153 - val_task_one_weighted_accuracy: 0.7705 - val_task_one_weighted_brier_score: 0.1469 - val_task_two_accuracy: 0.7869 - val_task_two_brier_score: 0.1722 - val_task_two_mae: 0.3720 - val_task_two_auc_1: 0.8605 - val_task_two_weighted_accuracy: 0.7619 - val_task_two_weighted_brier_score: 0.2016 - 524ms/epoch - 65ms/step\n",
            "Epoch 18/40\n",
            "8/8 - 1s - loss: 0.1488 - task_one_loss: 0.4855 - task_two_loss: 0.1311 - task_one_accuracy: 0.7562 - task_one_brier_score: 0.1632 - task_one_mae: 0.3375 - task_one_auc: 0.7943 - task_one_weighted_accuracy: 0.7562 - task_one_weighted_brier_score: 0.1632 - task_two_accuracy: 0.7314 - task_two_brier_score: 0.1857 - task_two_mae: 0.3771 - task_two_auc_1: 0.8324 - task_two_weighted_accuracy: 0.8718 - task_two_weighted_brier_score: 0.1226 - val_loss: 0.2232 - val_task_one_loss: 0.4462 - val_task_two_loss: 0.2115 - val_task_one_accuracy: 0.7705 - val_task_one_brier_score: 0.1434 - val_task_one_mae: 0.3134 - val_task_one_auc: 0.8207 - val_task_one_weighted_accuracy: 0.7705 - val_task_one_weighted_brier_score: 0.1434 - val_task_two_accuracy: 0.8197 - val_task_two_brier_score: 0.1657 - val_task_two_mae: 0.3603 - val_task_two_auc_1: 0.8615 - val_task_two_weighted_accuracy: 0.8095 - val_task_two_weighted_brier_score: 0.1995 - 672ms/epoch - 84ms/step\n",
            "Epoch 19/40\n",
            "8/8 - 1s - loss: 0.1558 - task_one_loss: 0.4766 - task_two_loss: 0.1390 - task_one_accuracy: 0.7479 - task_one_brier_score: 0.1590 - task_one_mae: 0.3380 - task_one_auc: 0.8161 - task_one_weighted_accuracy: 0.7479 - task_one_weighted_brier_score: 0.1590 - task_two_accuracy: 0.7479 - task_two_brier_score: 0.1767 - task_two_mae: 0.3620 - task_two_auc_1: 0.8433 - task_two_weighted_accuracy: 0.8718 - task_two_weighted_brier_score: 0.1298 - val_loss: 0.2223 - val_task_one_loss: 0.4348 - val_task_two_loss: 0.2111 - val_task_one_accuracy: 0.7705 - val_task_one_brier_score: 0.1399 - val_task_one_mae: 0.3025 - val_task_one_auc: 0.8283 - val_task_one_weighted_accuracy: 0.7705 - val_task_one_weighted_brier_score: 0.1399 - val_task_two_accuracy: 0.8197 - val_task_two_brier_score: 0.1612 - val_task_two_mae: 0.3520 - val_task_two_auc_1: 0.8615 - val_task_two_weighted_accuracy: 0.8095 - val_task_two_weighted_brier_score: 0.1987 - 717ms/epoch - 90ms/step\n",
            "Epoch 20/40\n",
            "8/8 - 1s - loss: 0.1247 - task_one_loss: 0.4656 - task_two_loss: 0.1067 - task_one_accuracy: 0.7603 - task_one_brier_score: 0.1547 - task_one_mae: 0.3210 - task_one_auc: 0.8237 - task_one_weighted_accuracy: 0.7603 - task_one_weighted_brier_score: 0.1547 - task_two_accuracy: 0.7231 - task_two_brier_score: 0.1794 - task_two_mae: 0.3623 - task_two_auc_1: 0.8369 - task_two_weighted_accuracy: 0.9103 - task_two_weighted_brier_score: 0.0926 - val_loss: 0.2222 - val_task_one_loss: 0.4246 - val_task_two_loss: 0.2115 - val_task_one_accuracy: 0.7705 - val_task_one_brier_score: 0.1371 - val_task_one_mae: 0.2913 - val_task_one_auc: 0.8328 - val_task_one_weighted_accuracy: 0.7705 - val_task_one_weighted_brier_score: 0.1371 - val_task_two_accuracy: 0.8197 - val_task_two_brier_score: 0.1588 - val_task_two_mae: 0.3453 - val_task_two_auc_1: 0.8610 - val_task_two_weighted_accuracy: 0.7619 - val_task_two_weighted_brier_score: 0.1985 - 617ms/epoch - 77ms/step\n",
            "Epoch 21/40\n",
            "8/8 - 1s - loss: 0.1435 - task_one_loss: 0.4586 - task_two_loss: 0.1269 - task_one_accuracy: 0.7851 - task_one_brier_score: 0.1536 - task_one_mae: 0.3151 - task_one_auc: 0.8278 - task_one_weighted_accuracy: 0.7851 - task_one_weighted_brier_score: 0.1536 - task_two_accuracy: 0.7686 - task_two_brier_score: 0.1706 - task_two_mae: 0.3545 - task_two_auc_1: 0.8542 - task_two_weighted_accuracy: 0.8205 - task_two_weighted_brier_score: 0.1198 - val_loss: 0.2239 - val_task_one_loss: 0.4165 - val_task_two_loss: 0.2138 - val_task_one_accuracy: 0.7869 - val_task_one_brier_score: 0.1350 - val_task_one_mae: 0.2823 - val_task_one_auc: 0.8351 - val_task_one_weighted_accuracy: 0.7869 - val_task_one_weighted_brier_score: 0.1350 - val_task_two_accuracy: 0.8197 - val_task_two_brier_score: 0.1566 - val_task_two_mae: 0.3357 - val_task_two_auc_1: 0.8610 - val_task_two_weighted_accuracy: 0.7619 - val_task_two_weighted_brier_score: 0.1978 - 536ms/epoch - 67ms/step\n",
            "Epoch 22/40\n",
            "8/8 - 1s - loss: 0.1475 - task_one_loss: 0.4725 - task_two_loss: 0.1304 - task_one_accuracy: 0.7149 - task_one_brier_score: 0.1629 - task_one_mae: 0.3206 - task_one_auc: 0.8030 - task_one_weighted_accuracy: 0.7149 - task_one_weighted_brier_score: 0.1629 - task_two_accuracy: 0.7645 - task_two_brier_score: 0.1734 - task_two_mae: 0.3403 - task_two_auc_1: 0.8486 - task_two_weighted_accuracy: 0.8462 - task_two_weighted_brier_score: 0.1199 - val_loss: 0.2228 - val_task_one_loss: 0.4101 - val_task_two_loss: 0.2129 - val_task_one_accuracy: 0.8033 - val_task_one_brier_score: 0.1329 - val_task_one_mae: 0.2776 - val_task_one_auc: 0.8397 - val_task_one_weighted_accuracy: 0.8033 - val_task_one_weighted_brier_score: 0.1329 - val_task_two_accuracy: 0.8197 - val_task_two_brier_score: 0.1501 - val_task_two_mae: 0.3226 - val_task_two_auc_1: 0.8621 - val_task_two_weighted_accuracy: 0.7619 - val_task_two_weighted_brier_score: 0.1959 - 577ms/epoch - 72ms/step\n",
            "Epoch 23/40\n",
            "8/8 - 1s - loss: 0.1269 - task_one_loss: 0.4420 - task_two_loss: 0.1103 - task_one_accuracy: 0.7521 - task_one_brier_score: 0.1477 - task_one_mae: 0.2984 - task_one_auc: 0.8517 - task_one_weighted_accuracy: 0.7521 - task_one_weighted_brier_score: 0.1477 - task_two_accuracy: 0.7975 - task_two_brier_score: 0.1557 - task_two_mae: 0.3302 - task_two_auc_1: 0.8700 - task_two_weighted_accuracy: 0.9103 - task_two_weighted_brier_score: 0.0999 - val_loss: 0.2214 - val_task_one_loss: 0.4052 - val_task_two_loss: 0.2117 - val_task_one_accuracy: 0.8033 - val_task_one_brier_score: 0.1315 - val_task_one_mae: 0.2727 - val_task_one_auc: 0.8419 - val_task_one_weighted_accuracy: 0.8033 - val_task_one_weighted_brier_score: 0.1315 - val_task_two_accuracy: 0.8197 - val_task_two_brier_score: 0.1449 - val_task_two_mae: 0.3110 - val_task_two_auc_1: 0.8642 - val_task_two_weighted_accuracy: 0.7619 - val_task_two_weighted_brier_score: 0.1943 - 552ms/epoch - 69ms/step\n",
            "Epoch 24/40\n",
            "8/8 - 1s - loss: 0.1305 - task_one_loss: 0.4519 - task_two_loss: 0.1136 - task_one_accuracy: 0.7645 - task_one_brier_score: 0.1525 - task_one_mae: 0.2988 - task_one_auc: 0.8388 - task_one_weighted_accuracy: 0.7645 - task_one_weighted_brier_score: 0.1525 - task_two_accuracy: 0.7851 - task_two_brier_score: 0.1553 - task_two_mae: 0.3229 - task_two_auc_1: 0.8744 - task_two_weighted_accuracy: 0.8846 - task_two_weighted_brier_score: 0.1042 - val_loss: 0.2215 - val_task_one_loss: 0.4002 - val_task_two_loss: 0.2121 - val_task_one_accuracy: 0.7541 - val_task_one_brier_score: 0.1298 - val_task_one_mae: 0.2697 - val_task_one_auc: 0.8427 - val_task_one_weighted_accuracy: 0.7541 - val_task_one_weighted_brier_score: 0.1298 - val_task_two_accuracy: 0.8197 - val_task_two_brier_score: 0.1417 - val_task_two_mae: 0.3005 - val_task_two_auc_1: 0.8680 - val_task_two_weighted_accuracy: 0.7619 - val_task_two_weighted_brier_score: 0.1927 - 526ms/epoch - 66ms/step\n",
            "Epoch 25/40\n",
            "8/8 - 1s - loss: 0.1218 - task_one_loss: 0.4793 - task_two_loss: 0.1030 - task_one_accuracy: 0.7521 - task_one_brier_score: 0.1592 - task_one_mae: 0.3148 - task_one_auc: 0.8084 - task_one_weighted_accuracy: 0.7521 - task_one_weighted_brier_score: 0.1592 - task_two_accuracy: 0.8017 - task_two_brier_score: 0.1495 - task_two_mae: 0.3094 - task_two_auc_1: 0.8822 - task_two_weighted_accuracy: 0.9359 - task_two_weighted_brier_score: 0.0839 - val_loss: 0.2220 - val_task_one_loss: 0.3951 - val_task_two_loss: 0.2128 - val_task_one_accuracy: 0.7541 - val_task_one_brier_score: 0.1279 - val_task_one_mae: 0.2671 - val_task_one_auc: 0.8442 - val_task_one_weighted_accuracy: 0.7541 - val_task_one_weighted_brier_score: 0.1279 - val_task_two_accuracy: 0.8197 - val_task_two_brier_score: 0.1401 - val_task_two_mae: 0.2928 - val_task_two_auc_1: 0.8728 - val_task_two_weighted_accuracy: 0.7619 - val_task_two_weighted_brier_score: 0.1913 - 771ms/epoch - 96ms/step\n",
            "Epoch 26/40\n",
            "8/8 - 1s - loss: 0.1213 - task_one_loss: 0.4434 - task_two_loss: 0.1044 - task_one_accuracy: 0.7810 - task_one_brier_score: 0.1474 - task_one_mae: 0.2932 - task_one_auc: 0.8420 - task_one_weighted_accuracy: 0.7810 - task_one_weighted_brier_score: 0.1474 - task_two_accuracy: 0.7934 - task_two_brier_score: 0.1554 - task_two_mae: 0.3212 - task_two_auc_1: 0.8638 - task_two_weighted_accuracy: 0.9231 - task_two_weighted_brier_score: 0.0930 - val_loss: 0.2218 - val_task_one_loss: 0.3911 - val_task_two_loss: 0.2129 - val_task_one_accuracy: 0.7541 - val_task_one_brier_score: 0.1264 - val_task_one_mae: 0.2656 - val_task_one_auc: 0.8450 - val_task_one_weighted_accuracy: 0.7541 - val_task_one_weighted_brier_score: 0.1264 - val_task_two_accuracy: 0.8361 - val_task_two_brier_score: 0.1388 - val_task_two_mae: 0.2870 - val_task_two_auc_1: 0.8772 - val_task_two_weighted_accuracy: 0.7619 - val_task_two_weighted_brier_score: 0.1911 - 731ms/epoch - 91ms/step\n",
            "Epoch 27/40\n",
            "8/8 - 1s - loss: 0.1088 - task_one_loss: 0.4165 - task_two_loss: 0.0926 - task_one_accuracy: 0.7934 - task_one_brier_score: 0.1345 - task_one_mae: 0.2876 - task_one_auc: 0.8691 - task_one_weighted_accuracy: 0.7934 - task_one_weighted_brier_score: 0.1345 - task_two_accuracy: 0.8017 - task_two_brier_score: 0.1468 - task_two_mae: 0.3040 - task_two_auc_1: 0.8871 - task_two_weighted_accuracy: 0.9231 - task_two_weighted_brier_score: 0.0804 - val_loss: 0.2231 - val_task_one_loss: 0.3875 - val_task_two_loss: 0.2144 - val_task_one_accuracy: 0.7705 - val_task_one_brier_score: 0.1252 - val_task_one_mae: 0.2633 - val_task_one_auc: 0.8457 - val_task_one_weighted_accuracy: 0.7705 - val_task_one_weighted_brier_score: 0.1252 - val_task_two_accuracy: 0.8361 - val_task_two_brier_score: 0.1386 - val_task_two_mae: 0.2829 - val_task_two_auc_1: 0.8772 - val_task_two_weighted_accuracy: 0.7619 - val_task_two_weighted_brier_score: 0.1907 - 665ms/epoch - 83ms/step\n",
            "Epoch 28/40\n",
            "8/8 - 1s - loss: 0.1020 - task_one_loss: 0.4350 - task_two_loss: 0.0845 - task_one_accuracy: 0.7975 - task_one_brier_score: 0.1429 - task_one_mae: 0.2955 - task_one_auc: 0.8466 - task_one_weighted_accuracy: 0.7975 - task_one_weighted_brier_score: 0.1429 - task_two_accuracy: 0.7645 - task_two_brier_score: 0.1610 - task_two_mae: 0.3086 - task_two_auc_1: 0.8626 - task_two_weighted_accuracy: 0.8974 - task_two_weighted_brier_score: 0.0733 - val_loss: 0.2223 - val_task_one_loss: 0.3842 - val_task_two_loss: 0.2138 - val_task_one_accuracy: 0.7705 - val_task_one_brier_score: 0.1244 - val_task_one_mae: 0.2596 - val_task_one_auc: 0.8473 - val_task_one_weighted_accuracy: 0.7705 - val_task_one_weighted_brier_score: 0.1244 - val_task_two_accuracy: 0.8361 - val_task_two_brier_score: 0.1387 - val_task_two_mae: 0.2802 - val_task_two_auc_1: 0.8793 - val_task_two_weighted_accuracy: 0.7619 - val_task_two_weighted_brier_score: 0.1917 - 734ms/epoch - 92ms/step\n",
            "Epoch 29/40\n",
            "8/8 - 1s - loss: 0.1176 - task_one_loss: 0.4276 - task_two_loss: 0.1013 - task_one_accuracy: 0.7810 - task_one_brier_score: 0.1409 - task_one_mae: 0.2903 - task_one_auc: 0.8529 - task_one_weighted_accuracy: 0.7810 - task_one_weighted_brier_score: 0.1409 - task_two_accuracy: 0.7603 - task_two_brier_score: 0.1654 - task_two_mae: 0.3206 - task_two_auc_1: 0.8549 - task_two_weighted_accuracy: 0.9359 - task_two_weighted_brier_score: 0.0867 - val_loss: 0.2218 - val_task_one_loss: 0.3812 - val_task_two_loss: 0.2134 - val_task_one_accuracy: 0.7705 - val_task_one_brier_score: 0.1239 - val_task_one_mae: 0.2550 - val_task_one_auc: 0.8450 - val_task_one_weighted_accuracy: 0.7705 - val_task_one_weighted_brier_score: 0.1239 - val_task_two_accuracy: 0.8361 - val_task_two_brier_score: 0.1394 - val_task_two_mae: 0.2779 - val_task_two_auc_1: 0.8761 - val_task_two_weighted_accuracy: 0.7619 - val_task_two_weighted_brier_score: 0.1931 - 880ms/epoch - 110ms/step\n",
            "Epoch 30/40\n",
            "8/8 - 1s - loss: 0.0988 - task_one_loss: 0.4244 - task_two_loss: 0.0817 - task_one_accuracy: 0.7975 - task_one_brier_score: 0.1384 - task_one_mae: 0.2788 - task_one_auc: 0.8596 - task_one_weighted_accuracy: 0.7975 - task_one_weighted_brier_score: 0.1384 - task_two_accuracy: 0.8223 - task_two_brier_score: 0.1399 - task_two_mae: 0.2834 - task_two_auc_1: 0.8977 - task_two_weighted_accuracy: 0.9231 - task_two_weighted_brier_score: 0.0717 - val_loss: 0.2223 - val_task_one_loss: 0.3780 - val_task_two_loss: 0.2141 - val_task_one_accuracy: 0.7869 - val_task_one_brier_score: 0.1229 - val_task_one_mae: 0.2506 - val_task_one_auc: 0.8450 - val_task_one_weighted_accuracy: 0.7869 - val_task_one_weighted_brier_score: 0.1229 - val_task_two_accuracy: 0.8361 - val_task_two_brier_score: 0.1389 - val_task_two_mae: 0.2723 - val_task_two_auc_1: 0.8772 - val_task_two_weighted_accuracy: 0.7619 - val_task_two_weighted_brier_score: 0.1933 - 894ms/epoch - 112ms/step\n",
            "Epoch 31/40\n",
            "8/8 - 1s - loss: 0.0881 - task_one_loss: 0.3703 - task_two_loss: 0.0732 - task_one_accuracy: 0.8140 - task_one_brier_score: 0.1202 - task_one_mae: 0.2613 - task_one_auc: 0.8992 - task_one_weighted_accuracy: 0.8140 - task_one_weighted_brier_score: 0.1202 - task_two_accuracy: 0.8223 - task_two_brier_score: 0.1347 - task_two_mae: 0.2688 - task_two_auc_1: 0.8899 - task_two_weighted_accuracy: 0.9487 - task_two_weighted_brier_score: 0.0600 - val_loss: 0.2244 - val_task_one_loss: 0.3762 - val_task_two_loss: 0.2164 - val_task_one_accuracy: 0.7869 - val_task_one_brier_score: 0.1225 - val_task_one_mae: 0.2461 - val_task_one_auc: 0.8457 - val_task_one_weighted_accuracy: 0.7869 - val_task_one_weighted_brier_score: 0.1225 - val_task_two_accuracy: 0.8361 - val_task_two_brier_score: 0.1397 - val_task_two_mae: 0.2680 - val_task_two_auc_1: 0.8788 - val_task_two_weighted_accuracy: 0.7619 - val_task_two_weighted_brier_score: 0.1947 - 682ms/epoch - 85ms/step\n",
            "Epoch 32/40\n",
            "8/8 - 1s - loss: 0.0880 - task_one_loss: 0.3790 - task_two_loss: 0.0727 - task_one_accuracy: 0.8017 - task_one_brier_score: 0.1249 - task_one_mae: 0.2681 - task_one_auc: 0.8976 - task_one_weighted_accuracy: 0.8017 - task_one_weighted_brier_score: 0.1249 - task_two_accuracy: 0.8140 - task_two_brier_score: 0.1361 - task_two_mae: 0.2739 - task_two_auc_1: 0.9041 - task_two_weighted_accuracy: 0.9615 - task_two_weighted_brier_score: 0.0594 - val_loss: 0.2242 - val_task_one_loss: 0.3734 - val_task_two_loss: 0.2164 - val_task_one_accuracy: 0.8033 - val_task_one_brier_score: 0.1217 - val_task_one_mae: 0.2430 - val_task_one_auc: 0.8473 - val_task_one_weighted_accuracy: 0.8033 - val_task_one_weighted_brier_score: 0.1217 - val_task_two_accuracy: 0.8361 - val_task_two_brier_score: 0.1395 - val_task_two_mae: 0.2612 - val_task_two_auc_1: 0.8831 - val_task_two_weighted_accuracy: 0.7619 - val_task_two_weighted_brier_score: 0.1947 - 717ms/epoch - 90ms/step\n",
            "Epoch 33/40\n",
            "8/8 - 1s - loss: 0.0863 - task_one_loss: 0.4123 - task_two_loss: 0.0692 - task_one_accuracy: 0.7851 - task_one_brier_score: 0.1369 - task_one_mae: 0.2773 - task_one_auc: 0.8575 - task_one_weighted_accuracy: 0.7851 - task_one_weighted_brier_score: 0.1369 - task_two_accuracy: 0.7810 - task_two_brier_score: 0.1444 - task_two_mae: 0.2810 - task_two_auc_1: 0.8880 - task_two_weighted_accuracy: 0.9231 - task_two_weighted_brier_score: 0.0573 - val_loss: 0.2243 - val_task_one_loss: 0.3706 - val_task_two_loss: 0.2166 - val_task_one_accuracy: 0.8033 - val_task_one_brier_score: 0.1209 - val_task_one_mae: 0.2385 - val_task_one_auc: 0.8480 - val_task_one_weighted_accuracy: 0.8033 - val_task_one_weighted_brier_score: 0.1209 - val_task_two_accuracy: 0.8197 - val_task_two_brier_score: 0.1404 - val_task_two_mae: 0.2589 - val_task_two_auc_1: 0.8863 - val_task_two_weighted_accuracy: 0.7619 - val_task_two_weighted_brier_score: 0.1942 - 701ms/epoch - 88ms/step\n",
            "Epoch 34/40\n",
            "8/8 - 1s - loss: 0.0719 - task_one_loss: 0.3732 - task_two_loss: 0.0560 - task_one_accuracy: 0.8306 - task_one_brier_score: 0.1219 - task_one_mae: 0.2537 - task_one_auc: 0.8939 - task_one_weighted_accuracy: 0.8306 - task_one_weighted_brier_score: 0.1219 - task_two_accuracy: 0.8182 - task_two_brier_score: 0.1292 - task_two_mae: 0.2522 - task_two_auc_1: 0.9053 - task_two_weighted_accuracy: 0.9744 - task_two_weighted_brier_score: 0.0419 - val_loss: 0.2264 - val_task_one_loss: 0.3692 - val_task_two_loss: 0.2189 - val_task_one_accuracy: 0.8033 - val_task_one_brier_score: 0.1205 - val_task_one_mae: 0.2354 - val_task_one_auc: 0.8465 - val_task_one_weighted_accuracy: 0.8033 - val_task_one_weighted_brier_score: 0.1205 - val_task_two_accuracy: 0.8033 - val_task_two_brier_score: 0.1427 - val_task_two_mae: 0.2577 - val_task_two_auc_1: 0.8831 - val_task_two_weighted_accuracy: 0.7143 - val_task_two_weighted_brier_score: 0.1959 - 713ms/epoch - 89ms/step\n",
            "Epoch 35/40\n",
            "8/8 - 1s - loss: 0.0926 - task_one_loss: 0.3921 - task_two_loss: 0.0769 - task_one_accuracy: 0.7975 - task_one_brier_score: 0.1305 - task_one_mae: 0.2617 - task_one_auc: 0.8721 - task_one_weighted_accuracy: 0.7975 - task_one_weighted_brier_score: 0.1305 - task_two_accuracy: 0.8058 - task_two_brier_score: 0.1342 - task_two_mae: 0.2570 - task_two_auc_1: 0.9067 - task_two_weighted_accuracy: 0.9103 - task_two_weighted_brier_score: 0.0701 - val_loss: 0.2290 - val_task_one_loss: 0.3688 - val_task_two_loss: 0.2217 - val_task_one_accuracy: 0.8197 - val_task_one_brier_score: 0.1204 - val_task_one_mae: 0.2341 - val_task_one_auc: 0.8457 - val_task_one_weighted_accuracy: 0.8197 - val_task_one_weighted_brier_score: 0.1204 - val_task_two_accuracy: 0.8033 - val_task_two_brier_score: 0.1441 - val_task_two_mae: 0.2561 - val_task_two_auc_1: 0.8831 - val_task_two_weighted_accuracy: 0.7143 - val_task_two_weighted_brier_score: 0.1965 - 529ms/epoch - 66ms/step\n",
            "Epoch 36/40\n",
            "8/8 - 1s - loss: 0.0651 - task_one_loss: 0.3473 - task_two_loss: 0.0503 - task_one_accuracy: 0.8347 - task_one_brier_score: 0.1120 - task_one_mae: 0.2414 - task_one_auc: 0.9084 - task_one_weighted_accuracy: 0.8347 - task_one_weighted_brier_score: 0.1120 - task_two_accuracy: 0.8636 - task_two_brier_score: 0.1115 - task_two_mae: 0.2250 - task_two_auc_1: 0.9193 - task_two_weighted_accuracy: 0.9487 - task_two_weighted_brier_score: 0.0376 - val_loss: 0.2303 - val_task_one_loss: 0.3677 - val_task_two_loss: 0.2231 - val_task_one_accuracy: 0.8197 - val_task_one_brier_score: 0.1200 - val_task_one_mae: 0.2320 - val_task_one_auc: 0.8473 - val_task_one_weighted_accuracy: 0.8197 - val_task_one_weighted_brier_score: 0.1200 - val_task_two_accuracy: 0.7869 - val_task_two_brier_score: 0.1462 - val_task_two_mae: 0.2563 - val_task_two_auc_1: 0.8793 - val_task_two_weighted_accuracy: 0.7143 - val_task_two_weighted_brier_score: 0.1961 - 721ms/epoch - 90ms/step\n",
            "Epoch 37/40\n",
            "8/8 - 1s - loss: 0.0656 - task_one_loss: 0.3356 - task_two_loss: 0.0514 - task_one_accuracy: 0.8388 - task_one_brier_score: 0.1062 - task_one_mae: 0.2306 - task_one_auc: 0.9171 - task_one_weighted_accuracy: 0.8388 - task_one_weighted_brier_score: 0.1062 - task_two_accuracy: 0.8223 - task_two_brier_score: 0.1328 - task_two_mae: 0.2471 - task_two_auc_1: 0.9041 - task_two_weighted_accuracy: 0.9615 - task_two_weighted_brier_score: 0.0405 - val_loss: 0.2308 - val_task_one_loss: 0.3673 - val_task_two_loss: 0.2236 - val_task_one_accuracy: 0.8197 - val_task_one_brier_score: 0.1200 - val_task_one_mae: 0.2296 - val_task_one_auc: 0.8427 - val_task_one_weighted_accuracy: 0.8197 - val_task_one_weighted_brier_score: 0.1200 - val_task_two_accuracy: 0.7869 - val_task_two_brier_score: 0.1463 - val_task_two_mae: 0.2528 - val_task_two_auc_1: 0.8825 - val_task_two_weighted_accuracy: 0.7143 - val_task_two_weighted_brier_score: 0.1946 - 611ms/epoch - 76ms/step\n",
            "Epoch 38/40\n",
            "8/8 - 1s - loss: 0.0777 - task_one_loss: 0.3870 - task_two_loss: 0.0614 - task_one_accuracy: 0.8306 - task_one_brier_score: 0.1248 - task_one_mae: 0.2495 - task_one_auc: 0.8752 - task_one_weighted_accuracy: 0.8306 - task_one_weighted_brier_score: 0.1248 - task_two_accuracy: 0.8306 - task_two_brier_score: 0.1274 - task_two_mae: 0.2334 - task_two_auc_1: 0.9012 - task_two_weighted_accuracy: 0.9487 - task_two_weighted_brier_score: 0.0525 - val_loss: 0.2298 - val_task_one_loss: 0.3655 - val_task_two_loss: 0.2227 - val_task_one_accuracy: 0.8197 - val_task_one_brier_score: 0.1192 - val_task_one_mae: 0.2296 - val_task_one_auc: 0.8495 - val_task_one_weighted_accuracy: 0.8197 - val_task_one_weighted_brier_score: 0.1192 - val_task_two_accuracy: 0.7869 - val_task_two_brier_score: 0.1453 - val_task_two_mae: 0.2491 - val_task_two_auc_1: 0.8836 - val_task_two_weighted_accuracy: 0.7143 - val_task_two_weighted_brier_score: 0.1924 - 776ms/epoch - 97ms/step\n",
            "Epoch 39/40\n",
            "8/8 - 1s - loss: 0.0611 - task_one_loss: 0.3421 - task_two_loss: 0.0463 - task_one_accuracy: 0.8347 - task_one_brier_score: 0.1098 - task_one_mae: 0.2401 - task_one_auc: 0.9113 - task_one_weighted_accuracy: 0.8347 - task_one_weighted_brier_score: 0.1098 - task_two_accuracy: 0.8554 - task_two_brier_score: 0.1110 - task_two_mae: 0.2203 - task_two_auc_1: 0.9294 - task_two_weighted_accuracy: 0.9744 - task_two_weighted_brier_score: 0.0346 - val_loss: 0.2284 - val_task_one_loss: 0.3635 - val_task_two_loss: 0.2213 - val_task_one_accuracy: 0.8197 - val_task_one_brier_score: 0.1186 - val_task_one_mae: 0.2266 - val_task_one_auc: 0.8503 - val_task_one_weighted_accuracy: 0.8197 - val_task_one_weighted_brier_score: 0.1186 - val_task_two_accuracy: 0.7869 - val_task_two_brier_score: 0.1461 - val_task_two_mae: 0.2464 - val_task_two_auc_1: 0.8852 - val_task_two_weighted_accuracy: 0.7143 - val_task_two_weighted_brier_score: 0.1915 - 553ms/epoch - 69ms/step\n",
            "Epoch 40/40\n",
            "8/8 - 1s - loss: 0.0529 - task_one_loss: 0.3387 - task_two_loss: 0.0379 - task_one_accuracy: 0.8347 - task_one_brier_score: 0.1098 - task_one_mae: 0.2343 - task_one_auc: 0.9127 - task_one_weighted_accuracy: 0.8347 - task_one_weighted_brier_score: 0.1098 - task_two_accuracy: 0.8347 - task_two_brier_score: 0.1132 - task_two_mae: 0.2153 - task_two_auc_1: 0.9259 - task_two_weighted_accuracy: 0.9487 - task_two_weighted_brier_score: 0.0278 - val_loss: 0.2274 - val_task_one_loss: 0.3633 - val_task_two_loss: 0.2202 - val_task_one_accuracy: 0.8197 - val_task_one_brier_score: 0.1187 - val_task_one_mae: 0.2241 - val_task_one_auc: 0.8503 - val_task_one_weighted_accuracy: 0.8197 - val_task_one_weighted_brier_score: 0.1187 - val_task_two_accuracy: 0.8197 - val_task_two_brier_score: 0.1457 - val_task_two_mae: 0.2415 - val_task_two_auc_1: 0.8847 - val_task_two_weighted_accuracy: 0.7619 - val_task_two_weighted_brier_score: 0.1900 - 708ms/epoch - 88ms/step\n"
          ]
        }
      ],
      "source": [
        "history = training_model.fit(\n",
        "    preprocessed_train_ds,\n",
        "    epochs=fit_n_epochs,\n",
        "    validation_data=preprocessed_val_ds,\n",
        "    verbose=fit_verbose,\n",
        ")"
      ]
    },
    {
      "cell_type": "code",
      "execution_count": 21,
      "metadata": {},
      "outputs": [
        {
          "data": {
            "image/png": "[encoded data removed]",
            "text/plain": [
              "<Figure size 800x500 with 1 Axes>"
            ]
          },
          "metadata": {},
          "output_type": "display_data"
        }
      ],
      "source": [
        "# plot loss curves\n",
        "cols = [\n",
        "    \"loss\",\n",
        "    \"task_one_loss\",\n",
        "    \"task_two_loss\",\n",
        "    \"task_one_accuracy\",\n",
        "    \"task_two_accuracy\",\n",
        "]\n",
        "pd.DataFrame(history.history)[cols].plot(figsize=(8, 5))\n",
        "plt.grid(True)\n",
        "plt.gca().set_ylim(0, 1)\n",
        "plt.title(\"Training Metrics\")\n",
        "plt.show()"
      ]
    },
    {
      "cell_type": "code",
      "execution_count": 22,
      "metadata": {},
      "outputs": [
        {
          "data": {
            "image/png": "[encoded data removed]",
            "text/plain": [
              "<Figure size 800x500 with 1 Axes>"
            ]
          },
          "metadata": {},
          "output_type": "display_data"
        }
      ],
      "source": [
        "# plot val loss curves\n",
        "cols = [\n",
        "    \"val_loss\",\n",
        "    \"val_task_one_loss\",\n",
        "    \"val_task_two_loss\",\n",
        "    \"val_task_one_accuracy\",\n",
        "    \"val_task_two_accuracy\",\n",
        "]\n",
        "pd.DataFrame(history.history)[cols].plot(figsize=(8, 5))\n",
        "plt.grid(True)\n",
        "plt.gca().set_ylim(0, 1)\n",
        "plt.title(\"Validation Metrics\")\n",
        "plt.show()"
      ]
    },
    {
      "cell_type": "code",
      "execution_count": 23,
      "metadata": {
        "colab": {
          "base_uri": "https://localhost:8080/"
        },
        "id": "ye9h05Oxil_Q",
        "outputId": "762da39a-00f2-4ebb-a7db-90a1698fb813"
      },
      "outputs": [
        {
          "name": "stdout",
          "output_type": "stream",
          "text": [
            "[<KerasTensor: shape=(None, 1) dtype=float32 (created by layer 'task_one')>,\n",
            " <KerasTensor: shape=(None, 1) dtype=float32 (created by layer 'task_two')>]\n"
          ]
        }
      ],
      "source": [
        "pp.pprint(training_model.outputs)"
      ]
    },
    {
      "cell_type": "code",
      "execution_count": 24,
      "metadata": {},
      "outputs": [
        {
          "name": "stdout",
          "output_type": "stream",
          "text": [
            "TensorShape([None, 1])\n",
            "TensorShape([None, 1])\n"
          ]
        }
      ],
      "source": [
        "pp.pprint(training_model.outputs[0].shape)\n",
        "pp.pprint(training_model.outputs[1].shape)"
      ]
    },
    {
      "cell_type": "code",
      "execution_count": 25,
      "metadata": {
        "colab": {
          "base_uri": "https://localhost:8080/"
        },
        "id": "rvGY8rrHaHBO",
        "outputId": "4758f9a8-2ecb-40a4-e9e9-007f3f6a0bfd"
      },
      "outputs": [
        {
          "name": "stdout",
          "output_type": "stream",
          "text": [
            "23\n"
          ]
        }
      ],
      "source": [
        "print(len(training_model.layers))"
      ]
    },
    {
      "cell_type": "code",
      "execution_count": 26,
      "metadata": {
        "colab": {
          "base_uri": "https://localhost:8080/",
          "height": 35
        },
        "id": "ALMRAoRMi3wq",
        "outputId": "bdff7d15-ddf6-4239-afb2-f373bab59408"
      },
      "outputs": [
        {
          "name": "stdout",
          "output_type": "stream",
          "text": [
            "[<keras.src.engine.input_layer.InputLayer object at 0x0000022849736620>,\n",
            " <keras.src.layers.core.dense.Dense object at 0x0000022847DC2E60>,\n",
            " <keras.src.layers.core.dense.Dense object at 0x0000022847E1E8F0>,\n",
            " <keras.src.layers.regularization.dropout.Dropout object at 0x0000022847DC2740>,\n",
            " <keras.src.layers.regularization.dropout.Dropout object at 0x0000022847E1DB70>,\n",
            " <keras.src.layers.core.dense.Dense object at 0x0000022847D59990>,\n",
            " <keras.src.layers.core.dense.Dense object at 0x0000022847E1DDE0>,\n",
            " <keras.src.layers.core.dense.Dense object at 0x0000022847E1FEE0>,\n",
            " <keras.src.layers.core.dense.Dense object at 0x0000022849719E70>,\n",
            " <keras.src.layers.core.tf_op_layer.SlicingOpLambda object at 0x000002281BE770D0>,\n",
            " <keras.src.layers.regularization.dropout.Dropout object at 0x0000022847E1E380>,\n",
            " <keras.src.layers.core.tf_op_layer.SlicingOpLambda object at 0x0000022849718CD0>,\n",
            " <keras.src.layers.regularization.dropout.Dropout object at 0x0000022847D5B430>,\n",
            " <keras.src.layers.core.tf_op_layer.SlicingOpLambda object at 0x000002284971B7F0>,\n",
            " <keras.src.layers.core.tf_op_layer.SlicingOpLambda object at 0x00000228497340A0>,\n",
            " <keras.src.layers.merging.multiply.Multiply object at 0x0000022847E1F190>,\n",
            " <keras.src.layers.merging.multiply.Multiply object at 0x000002281BE77CA0>,\n",
            " <keras.src.layers.merging.multiply.Multiply object at 0x000002284971AD70>,\n",
            " <keras.src.layers.merging.multiply.Multiply object at 0x000002284971B430>,\n",
            " <keras.src.layers.merging.add.Add object at 0x0000022847E1C790>,\n",
            " <keras.src.layers.merging.add.Add object at 0x000002284971BEE0>,\n",
            " <keras.src.layers.core.dense.Dense object at 0x0000022849719A50>,\n",
            " <keras.src.layers.core.dense.Dense object at 0x000002284971A9B0>]\n"
          ]
        }
      ],
      "source": [
        "pp.pprint(training_model.layers)"
      ]
    },
    {
      "cell_type": "markdown",
      "metadata": {
        "id": "b7gBNlvk3eeM"
      },
      "source": [
        "# 6. Batch Predict on Val Set & Plot Calibration Curves\n"
      ]
    },
    {
      "cell_type": "code",
      "execution_count": 27,
      "metadata": {
        "colab": {
          "base_uri": "https://localhost:8080/",
          "height": 736
        },
        "id": "6bA_IH7n7pdd",
        "outputId": "b34bafa5-5e20-43bd-f981-6c7122bfe057"
      },
      "outputs": [
        {
          "name": "stdout",
          "output_type": "stream",
          "text": [
            "2/2 [==============================] - 1s 7ms/step\n"
          ]
        },
        {
          "data": {
            "image/png": "[encoded data removed]",
            "text/plain": [
              "<Figure size 1000x800 with 1 Axes>"
            ]
          },
          "metadata": {},
          "output_type": "display_data"
        }
      ],
      "source": [
        "# Predictions and true labels\n",
        "predictions = [pred.flatten() for pred in training_model.predict(preprocessed_val_ds)]\n",
        "\n",
        "# Adjusted true labels extraction\n",
        "true_labels = [\n",
        "    np.concatenate(\n",
        "        [labels[f\"task_{suffix}\"].numpy() for _, labels, _ in preprocessed_val_ds]\n",
        "    )\n",
        "    for suffix in [\"one\", \"two\"]\n",
        "]\n",
        "\n",
        "# Plotting calibration curves\n",
        "plt.figure(figsize=(10, 8))\n",
        "for i, (true, pred) in enumerate(zip(true_labels, predictions)):\n",
        "    prob_true, prob_pred = calibration_curve(true, pred, n_bins=10)\n",
        "    plt.plot(prob_pred, prob_true, marker=\"o\", linestyle=\"-\", label=f\"Task {i+1}\")\n",
        "\n",
        "plt.plot([0, 1], [0, 1], linestyle=\"--\", color=\"grey\")  # Reference line\n",
        "plt.xlabel(\"Mean Predicted Probability\")\n",
        "plt.ylabel(\"Fraction of Positives\")\n",
        "plt.title(\"Calibration Curves for Task One and Task Two\")\n",
        "plt.legend()\n",
        "plt.show()"
      ]
    },
    {
      "cell_type": "code",
      "execution_count": 28,
      "metadata": {
        "colab": {
          "base_uri": "https://localhost:8080/"
        },
        "id": "6ccZU30dL3j7",
        "outputId": "964144e1-5f81-4737-9833-b5de12e7c48c"
      },
      "outputs": [
        {
          "name": "stdout",
          "output_type": "stream",
          "text": [
            "2/2 [==============================] - 1s 2ms/step\n",
            "   task_one_pred  task_two_pred\n",
            "0       0.019933       0.085958\n",
            "1       0.002120       0.011221\n",
            "2       0.423651       0.972596\n",
            "3       0.449373       0.538516\n",
            "4       0.828462       0.889940\n"
          ]
        }
      ],
      "source": [
        "pred = training_model.predict(preprocessed_val_ds)\n",
        "\n",
        "# use zip to add scores for task one and task two into a df\n",
        "df_preds_val = pd.DataFrame(\n",
        "    zip(\n",
        "        pred[0].flatten(),\n",
        "        pred[1].flatten(),\n",
        "    ),\n",
        "    columns=[\"task_one_pred\", \"task_two_pred\"],\n",
        ")\n",
        "pp.pprint(df_preds_val.head())"
      ]
    },
    {
      "cell_type": "markdown",
      "metadata": {
        "id": "uvZRRqS5qMbt"
      },
      "source": [
        "# 7. Inference with the new E2E model\n"
      ]
    },
    {
      "cell_type": "code",
      "execution_count": 29,
      "metadata": {
        "id": "yzV9XqvkkVLO"
      },
      "outputs": [],
      "source": [
        "df_as_dict = {\n",
        "    \"age\": [60, 60, 60, 60],\n",
        "    \"sex\": [1, 1, 1, 1],\n",
        "    \"cp\": [1, 1, 1, 1],\n",
        "    \"trestbps\": [145, 145, 145, 145],\n",
        "    \"chol\": [233, 233, 233, 233],\n",
        "    \"fbs\": [1, 1, 1, 1],\n",
        "    \"restecg\": [2, 2, 2, 2],\n",
        "    \"thalach\": [150, 150, 150, 150],\n",
        "    \"exang\": [0, 0, 0, 0],\n",
        "    \"oldpeak\": [2.3, 2.3, 2.3, 2.3],\n",
        "    \"slope\": [3, 3, 3, 3],\n",
        "    \"ca\": [0, 0, 0, 0],\n",
        "    \"thal\": [\"fixed\", \"fixed\", \"fixed\", \"fixed\"],\n",
        "}"
      ]
    },
    {
      "cell_type": "code",
      "execution_count": 30,
      "metadata": {
        "id": "GRB_QiKik0UT"
      },
      "outputs": [],
      "source": [
        "df = pd.DataFrame(df_as_dict)\n",
        "\n",
        "ds = tf.data.Dataset.from_tensor_slices(dict(df))\n",
        "ds = ds.batch(100)"
      ]
    },
    {
      "cell_type": "code",
      "execution_count": 31,
      "metadata": {
        "colab": {
          "base_uri": "https://localhost:8080/"
        },
        "id": "qQB2B105lCzS",
        "outputId": "f7b7eb96-2213-44cf-e4f7-7d1dfd4c3958"
      },
      "outputs": [
        {
          "name": "stdout",
          "output_type": "stream",
          "text": [
            "1/1 [==============================] - 1s 1s/step\n"
          ]
        }
      ],
      "source": [
        "predictions = inference_model.predict(ds)"
      ]
    },
    {
      "cell_type": "code",
      "execution_count": 32,
      "metadata": {
        "colab": {
          "base_uri": "https://localhost:8080/"
        },
        "id": "MaNUZjC-qK5t",
        "outputId": "cd51680e-b1a2-4f79-8946-130a0bd620d5"
      },
      "outputs": [
        {
          "name": "stdout",
          "output_type": "stream",
          "text": [
            "1/1 [==============================] - 1s 1s/step\n",
            "[array([[0.3365623]], dtype=float32), array([[0.57184196]], dtype=float32)]\n",
            "This patient had a 33.66% probability of heart disease This patient had a 57.18% probability of lung disease \n"
          ]
        }
      ],
      "source": [
        "sample = {\n",
        "    \"age\": 60,\n",
        "    \"sex\": 1,\n",
        "    \"cp\": 1,\n",
        "    \"trestbps\": 145,\n",
        "    \"chol\": 233,\n",
        "    \"fbs\": 1,\n",
        "    \"restecg\": 2,\n",
        "    \"thalach\": 150,\n",
        "    \"exang\": 0,\n",
        "    \"oldpeak\": 2.3,\n",
        "    \"slope\": 3,\n",
        "    \"ca\": 0,\n",
        "    \"thal\": \"fixed\",\n",
        "}\n",
        "\n",
        "input_dict = {name: tf.convert_to_tensor([value]) for name, value in sample.items()}\n",
        "predictions = inference_model.predict(input_dict)\n",
        "pp.pprint(predictions)\n",
        "\n",
        "print(\n",
        "    f\"This patient had a {100 * predictions[0][0][0]:.2f}% probability of heart disease \"\n",
        "    f\"This patient had a {100 * predictions[1][0][0]:.2f}% probability of lung disease \"\n",
        ")"
      ]
    },
    {
      "cell_type": "code",
      "execution_count": 33,
      "metadata": {
        "colab": {
          "base_uri": "https://localhost:8080/"
        },
        "id": "5LtVHdmt_lto",
        "outputId": "56360d87-135a-4499-8772-62b73600f7de"
      },
      "outputs": [
        {
          "name": "stdout",
          "output_type": "stream",
          "text": [
            "WARNING:tensorflow:Compiled the loaded model, but the compiled metrics have yet to be built. `model.compile_metrics` will be empty until you train or evaluate the model.\n",
            "INFO:tensorflow:Assets written to: inference_model/assets\n"
          ]
        },
        {
          "name": "stderr",
          "output_type": "stream",
          "text": [
            "INFO:tensorflow:Assets written to: inference_model/assets\n"
          ]
        }
      ],
      "source": [
        "# Save the inference model to a file in the SavedModel format\n",
        "inference_model_file_path = \"inference_model/\"\n",
        "inference_model.save(inference_model_file_path, save_format=\"tf\")"
      ]
    },
    {
      "cell_type": "code",
      "execution_count": 34,
      "metadata": {
        "colab": {
          "base_uri": "https://localhost:8080/"
        },
        "id": "0VPanXX3_oLA",
        "outputId": "d2486508-8b38-4dfe-b181-142eb7058d70"
      },
      "outputs": [
        {
          "name": "stdout",
          "output_type": "stream",
          "text": [
            "WARNING:tensorflow:From c:\\Users\\andre\\Documents\\repos\\learn-keras-moe\\venv\\lib\\site-packages\\keras\\src\\saving\\legacy\\saved_model\\load.py:107: The name tf.gfile.Exists is deprecated. Please use tf.io.gfile.exists instead.\n",
            "\n"
          ]
        },
        {
          "name": "stderr",
          "output_type": "stream",
          "text": [
            "WARNING:tensorflow:From c:\\Users\\andre\\Documents\\repos\\learn-keras-moe\\venv\\lib\\site-packages\\keras\\src\\saving\\legacy\\saved_model\\load.py:107: The name tf.gfile.Exists is deprecated. Please use tf.io.gfile.exists instead.\n",
            "\n"
          ]
        },
        {
          "name": "stdout",
          "output_type": "stream",
          "text": [
            "WARNING:tensorflow:From c:\\Users\\andre\\Documents\\repos\\learn-keras-moe\\venv\\lib\\site-packages\\keras\\src\\saving\\legacy\\saved_model\\load.py:178: The name tf.logging.warning is deprecated. Please use tf.compat.v1.logging.warning instead.\n",
            "\n"
          ]
        },
        {
          "name": "stderr",
          "output_type": "stream",
          "text": [
            "WARNING:tensorflow:From c:\\Users\\andre\\Documents\\repos\\learn-keras-moe\\venv\\lib\\site-packages\\keras\\src\\saving\\legacy\\saved_model\\load.py:178: The name tf.logging.warning is deprecated. Please use tf.compat.v1.logging.warning instead.\n",
            "\n"
          ]
        },
        {
          "name": "stdout",
          "output_type": "stream",
          "text": [
            "WARNING:tensorflow:No training configuration found in save file, so the model was *not* compiled. Compile it manually.\n"
          ]
        },
        {
          "name": "stderr",
          "output_type": "stream",
          "text": [
            "WARNING:tensorflow:No training configuration found in save file, so the model was *not* compiled. Compile it manually.\n"
          ]
        }
      ],
      "source": [
        "# Load the inference model from the file\n",
        "loaded_inference_model = keras.models.load_model(inference_model_file_path)"
      ]
    },
    {
      "cell_type": "code",
      "execution_count": 35,
      "metadata": {
        "colab": {
          "base_uri": "https://localhost:8080/"
        },
        "id": "j88xqVs9_wg4",
        "outputId": "5201321d-acab-4248-a78a-c2d2a0882104"
      },
      "outputs": [
        {
          "name": "stdout",
          "output_type": "stream",
          "text": [
            "1/1 [==============================] - 1s 1s/step\n",
            "This patient had a 33.66% probability of heart disease This patient had a 57.18% probability of lung disease \n"
          ]
        }
      ],
      "source": [
        "predictions = loaded_inference_model.predict(input_dict)\n",
        "\n",
        "print(\n",
        "    f\"This patient had a {100 * predictions[0][0][0]:.2f}% probability of heart disease \"\n",
        "    f\"This patient had a {100 * predictions[1][0][0]:.2f}% probability of lung disease \"\n",
        ")"
      ]
    },
    {
      "cell_type": "code",
      "execution_count": null,
      "metadata": {
        "id": "yVpS2ruak_0r"
      },
      "outputs": [],
      "source": []
    },
    {
      "cell_type": "code",
      "execution_count": null,
      "metadata": {
        "id": "JkRN41PZakQW"
      },
      "outputs": [],
      "source": []
    },
    {
      "cell_type": "code",
      "execution_count": null,
      "metadata": {
        "id": "B40GXSsxakSz"
      },
      "outputs": [],
      "source": []
    },
    {
      "cell_type": "code",
      "execution_count": null,
      "metadata": {
        "id": "erURhU3ncY9w"
      },
      "outputs": [],
      "source": []
    }
  ],
  "metadata": {
    "colab": {
      "provenance": []
    },
    "kernelspec": {
      "display_name": "Python 3",
      "name": "python3"
    },
    "language_info": {
      "codemirror_mode": {
        "name": "ipython",
        "version": 3
      },
      "file_extension": ".py",
      "mimetype": "text/x-python",
      "name": "python",
      "nbconvert_exporter": "python",
      "pygments_lexer": "ipython3",
      "version": "3.10.7"
    }
  },
  "nbformat": 4,
  "nbformat_minor": 0
}
